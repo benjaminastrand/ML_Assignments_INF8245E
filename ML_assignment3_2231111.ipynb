{
  "cells": [
    {
      "cell_type": "markdown",
      "metadata": {
        "id": "cF6OY-fzy3LV"
      },
      "source": [
        "## Assignment 3"
      ]
    },
    {
      "cell_type": "markdown",
      "metadata": {
        "id": "xECtsGjsy3LZ"
      },
      "source": [
        "## Instructions\n",
        "* This is an individual assignment. You are not allowed to discuss the problems with other students.\n",
        "\n",
        "* Parts of this assignment will be autograded by gradescope. You can use it as immediate feedback to improve your answers. You can resubmit as many times as you want. Please also note that the **public tests are not exhaustive**, meaning that passing the public tests does not necessarily imply that your implementation is correct. It is recommended to test your implementation in your own ways instead of solely relying on the autograder. \n",
        "\n",
        "* All your solution, code, analysis, graphs, and explanations should be done in this same notebook.\n",
        "\n",
        "* Please make sure to execute all the cells before you submit the notebook to the gradescope. You will not get points for the plots if they are not generated already.\n",
        "\n",
        "* If you have questions regarding the assignment, you can ask for clarifications in Piazza. You should use the corresponding tag for this assignment.\n",
        "\n",
        "* Make sure to use Google Colab to avoid unnecessary issues. If you are having issues with Colab, try to restart your runtime ( Runtime -> Restart runtime ) and see if the issues persist.\n",
        "\n",
        "**Warning:** For this assignment, you are free to use libraries with general utilities, such as *numpy* and *pandas*, and you are expected to use pre-existing implementation of the algorithms available in *scikit-learn*. However, do not use *NLTK* or any other NLP libraries for pre-processing.\n",
        "\n",
        "## Context\n",
        "In this assignment, we will build several classifiers with a video game review corpus. This is a classification task with the input as a video game review (text) and the output as the corresponding overall score. Each score belongs to one of 5 classes: \n",
        "\n",
        "1. Horrible.\n",
        "2. Bad.\n",
        "3. Decent.\n",
        "4. Good.\n",
        "5. Great.\n",
        "\n",
        "The task is then to classify a video game review (text) to the corresponding score. The dataset consists of 25000 video game reviews in the training set and 5000 reviews in each of the validation and test sets. The data is adapted from http://jmcauley.ucsd.edu/data/amazon/."
      ]
    },
    {
      "cell_type": "markdown",
      "metadata": {
        "id": "NChXCZooy3La"
      },
      "source": [
        "The next two cells install and initialize otter-grader. You should run these cells as they are WITHOUT modifying them!"
      ]
    },
    {
      "cell_type": "code",
      "execution_count": 1,
      "metadata": {
        "id": "4aIfAvWOy3La",
        "colab": {
          "base_uri": "https://localhost:8080/"
        },
        "outputId": "267164ff-0090-47e1-f9f1-ad910d1a129e"
      },
      "outputs": [
        {
          "output_type": "stream",
          "name": "stdout",
          "text": [
            "Looking in indexes: https://pypi.org/simple, https://us-python.pkg.dev/colab-wheels/public/simple/\n",
            "Requirement already satisfied: otter-grader in /usr/local/lib/python3.7/dist-packages (4.2.0)\n",
            "Requirement already satisfied: fica>=0.2.0 in /usr/local/lib/python3.7/dist-packages (from otter-grader) (0.2.2)\n",
            "Requirement already satisfied: google-auth-oauthlib in /usr/local/lib/python3.7/dist-packages (from otter-grader) (0.4.6)\n",
            "Requirement already satisfied: wrapt in /usr/local/lib/python3.7/dist-packages (from otter-grader) (1.14.1)\n",
            "Requirement already satisfied: requests in /usr/local/lib/python3.7/dist-packages (from otter-grader) (2.23.0)\n",
            "Requirement already satisfied: nbformat in /usr/local/lib/python3.7/dist-packages (from otter-grader) (5.7.0)\n",
            "Requirement already satisfied: pandas in /usr/local/lib/python3.7/dist-packages (from otter-grader) (1.3.5)\n",
            "Requirement already satisfied: click in /usr/local/lib/python3.7/dist-packages (from otter-grader) (7.1.2)\n",
            "Requirement already satisfied: gspread in /usr/local/lib/python3.7/dist-packages (from otter-grader) (3.4.2)\n",
            "Requirement already satisfied: jinja2 in /usr/local/lib/python3.7/dist-packages (from otter-grader) (2.11.3)\n",
            "Requirement already satisfied: jupytext in /usr/local/lib/python3.7/dist-packages (from otter-grader) (1.14.1)\n",
            "Requirement already satisfied: ipython in /usr/local/lib/python3.7/dist-packages (from otter-grader) (7.9.0)\n",
            "Requirement already satisfied: dill in /usr/local/lib/python3.7/dist-packages (from otter-grader) (0.3.6)\n",
            "Requirement already satisfied: google-api-python-client in /usr/local/lib/python3.7/dist-packages (from otter-grader) (1.12.11)\n",
            "Requirement already satisfied: six in /usr/local/lib/python3.7/dist-packages (from otter-grader) (1.15.0)\n",
            "Requirement already satisfied: PyYAML in /usr/local/lib/python3.7/dist-packages (from otter-grader) (6.0)\n",
            "Requirement already satisfied: python-on-whales in /usr/local/lib/python3.7/dist-packages (from otter-grader) (0.53.0)\n",
            "Requirement already satisfied: sphinx in /usr/local/lib/python3.7/dist-packages (from fica>=0.2.0->otter-grader) (1.8.6)\n",
            "Requirement already satisfied: docutils in /usr/local/lib/python3.7/dist-packages (from fica>=0.2.0->otter-grader) (0.17.1)\n",
            "Requirement already satisfied: google-auth-httplib2>=0.0.3 in /usr/local/lib/python3.7/dist-packages (from google-api-python-client->otter-grader) (0.0.4)\n",
            "Requirement already satisfied: google-auth<3dev,>=1.16.0 in /usr/local/lib/python3.7/dist-packages (from google-api-python-client->otter-grader) (2.14.1)\n",
            "Requirement already satisfied: uritemplate<4dev,>=3.0.0 in /usr/local/lib/python3.7/dist-packages (from google-api-python-client->otter-grader) (3.0.1)\n",
            "Requirement already satisfied: google-api-core<3dev,>=1.21.0 in /usr/local/lib/python3.7/dist-packages (from google-api-python-client->otter-grader) (2.8.2)\n",
            "Requirement already satisfied: httplib2<1dev,>=0.15.0 in /usr/local/lib/python3.7/dist-packages (from google-api-python-client->otter-grader) (0.17.4)\n",
            "Requirement already satisfied: googleapis-common-protos<2.0dev,>=1.56.2 in /usr/local/lib/python3.7/dist-packages (from google-api-core<3dev,>=1.21.0->google-api-python-client->otter-grader) (1.56.4)\n",
            "Requirement already satisfied: protobuf<5.0.0dev,>=3.15.0 in /usr/local/lib/python3.7/dist-packages (from google-api-core<3dev,>=1.21.0->google-api-python-client->otter-grader) (3.19.6)\n",
            "Requirement already satisfied: rsa<5,>=3.1.4 in /usr/local/lib/python3.7/dist-packages (from google-auth<3dev,>=1.16.0->google-api-python-client->otter-grader) (4.9)\n",
            "Requirement already satisfied: cachetools<6.0,>=2.0.0 in /usr/local/lib/python3.7/dist-packages (from google-auth<3dev,>=1.16.0->google-api-python-client->otter-grader) (5.2.0)\n",
            "Requirement already satisfied: pyasn1-modules>=0.2.1 in /usr/local/lib/python3.7/dist-packages (from google-auth<3dev,>=1.16.0->google-api-python-client->otter-grader) (0.2.8)\n",
            "Requirement already satisfied: pyasn1<0.5.0,>=0.4.6 in /usr/local/lib/python3.7/dist-packages (from pyasn1-modules>=0.2.1->google-auth<3dev,>=1.16.0->google-api-python-client->otter-grader) (0.4.8)\n",
            "Requirement already satisfied: certifi>=2017.4.17 in /usr/local/lib/python3.7/dist-packages (from requests->otter-grader) (2022.9.24)\n",
            "Requirement already satisfied: urllib3!=1.25.0,!=1.25.1,<1.26,>=1.21.1 in /usr/local/lib/python3.7/dist-packages (from requests->otter-grader) (1.24.3)\n",
            "Requirement already satisfied: chardet<4,>=3.0.2 in /usr/local/lib/python3.7/dist-packages (from requests->otter-grader) (3.0.4)\n",
            "Requirement already satisfied: idna<3,>=2.5 in /usr/local/lib/python3.7/dist-packages (from requests->otter-grader) (2.10)\n",
            "Requirement already satisfied: requests-oauthlib>=0.7.0 in /usr/local/lib/python3.7/dist-packages (from google-auth-oauthlib->otter-grader) (1.3.1)\n",
            "Requirement already satisfied: oauthlib>=3.0.0 in /usr/local/lib/python3.7/dist-packages (from requests-oauthlib>=0.7.0->google-auth-oauthlib->otter-grader) (3.2.2)\n",
            "Requirement already satisfied: pickleshare in /usr/local/lib/python3.7/dist-packages (from ipython->otter-grader) (0.7.5)\n",
            "Requirement already satisfied: pygments in /usr/local/lib/python3.7/dist-packages (from ipython->otter-grader) (2.6.1)\n",
            "Requirement already satisfied: traitlets>=4.2 in /usr/local/lib/python3.7/dist-packages (from ipython->otter-grader) (5.1.1)\n",
            "Requirement already satisfied: backcall in /usr/local/lib/python3.7/dist-packages (from ipython->otter-grader) (0.2.0)\n",
            "Requirement already satisfied: prompt-toolkit<2.1.0,>=2.0.0 in /usr/local/lib/python3.7/dist-packages (from ipython->otter-grader) (2.0.10)\n",
            "Requirement already satisfied: jedi>=0.10 in /usr/local/lib/python3.7/dist-packages (from ipython->otter-grader) (0.18.1)\n",
            "Requirement already satisfied: pexpect in /usr/local/lib/python3.7/dist-packages (from ipython->otter-grader) (4.8.0)\n",
            "Requirement already satisfied: setuptools>=18.5 in /usr/local/lib/python3.7/dist-packages (from ipython->otter-grader) (57.4.0)\n",
            "Requirement already satisfied: decorator in /usr/local/lib/python3.7/dist-packages (from ipython->otter-grader) (4.4.2)\n",
            "Requirement already satisfied: parso<0.9.0,>=0.8.0 in /usr/local/lib/python3.7/dist-packages (from jedi>=0.10->ipython->otter-grader) (0.8.3)\n",
            "Requirement already satisfied: wcwidth in /usr/local/lib/python3.7/dist-packages (from prompt-toolkit<2.1.0,>=2.0.0->ipython->otter-grader) (0.2.5)\n",
            "Requirement already satisfied: MarkupSafe>=0.23 in /usr/local/lib/python3.7/dist-packages (from jinja2->otter-grader) (2.0.1)\n",
            "Requirement already satisfied: toml in /usr/local/lib/python3.7/dist-packages (from jupytext->otter-grader) (0.10.2)\n",
            "Requirement already satisfied: markdown-it-py<3.0.0,>=1.0.0 in /usr/local/lib/python3.7/dist-packages (from jupytext->otter-grader) (2.1.0)\n",
            "Requirement already satisfied: mdit-py-plugins in /usr/local/lib/python3.7/dist-packages (from jupytext->otter-grader) (0.3.1)\n",
            "Requirement already satisfied: mdurl~=0.1 in /usr/local/lib/python3.7/dist-packages (from markdown-it-py<3.0.0,>=1.0.0->jupytext->otter-grader) (0.1.2)\n",
            "Requirement already satisfied: typing_extensions>=3.7.4 in /usr/local/lib/python3.7/dist-packages (from markdown-it-py<3.0.0,>=1.0.0->jupytext->otter-grader) (4.1.1)\n",
            "Requirement already satisfied: fastjsonschema in /usr/local/lib/python3.7/dist-packages (from nbformat->otter-grader) (2.16.2)\n",
            "Requirement already satisfied: jupyter-core in /usr/local/lib/python3.7/dist-packages (from nbformat->otter-grader) (4.11.2)\n",
            "Requirement already satisfied: jsonschema>=2.6 in /usr/local/lib/python3.7/dist-packages (from nbformat->otter-grader) (4.3.3)\n",
            "Requirement already satisfied: importlib-metadata>=3.6 in /usr/local/lib/python3.7/dist-packages (from nbformat->otter-grader) (4.13.0)\n",
            "Requirement already satisfied: zipp>=0.5 in /usr/local/lib/python3.7/dist-packages (from importlib-metadata>=3.6->nbformat->otter-grader) (3.10.0)\n",
            "Requirement already satisfied: pyrsistent!=0.17.0,!=0.17.1,!=0.17.2,>=0.14.0 in /usr/local/lib/python3.7/dist-packages (from jsonschema>=2.6->nbformat->otter-grader) (0.19.2)\n",
            "Requirement already satisfied: attrs>=17.4.0 in /usr/local/lib/python3.7/dist-packages (from jsonschema>=2.6->nbformat->otter-grader) (22.1.0)\n",
            "Requirement already satisfied: importlib-resources>=1.4.0 in /usr/local/lib/python3.7/dist-packages (from jsonschema>=2.6->nbformat->otter-grader) (5.10.0)\n",
            "Requirement already satisfied: numpy>=1.17.3 in /usr/local/lib/python3.7/dist-packages (from pandas->otter-grader) (1.21.6)\n",
            "Requirement already satisfied: python-dateutil>=2.7.3 in /usr/local/lib/python3.7/dist-packages (from pandas->otter-grader) (2.8.2)\n",
            "Requirement already satisfied: pytz>=2017.3 in /usr/local/lib/python3.7/dist-packages (from pandas->otter-grader) (2022.6)\n",
            "Requirement already satisfied: ptyprocess>=0.5 in /usr/local/lib/python3.7/dist-packages (from pexpect->ipython->otter-grader) (0.7.0)\n",
            "Requirement already satisfied: tqdm in /usr/local/lib/python3.7/dist-packages (from python-on-whales->otter-grader) (4.64.1)\n",
            "Requirement already satisfied: pydantic in /usr/local/lib/python3.7/dist-packages (from python-on-whales->otter-grader) (1.10.2)\n",
            "Requirement already satisfied: typer>=0.4.1 in /usr/local/lib/python3.7/dist-packages (from python-on-whales->otter-grader) (0.4.2)\n",
            "Requirement already satisfied: alabaster<0.8,>=0.7 in /usr/local/lib/python3.7/dist-packages (from sphinx->fica>=0.2.0->otter-grader) (0.7.12)\n",
            "Requirement already satisfied: snowballstemmer>=1.1 in /usr/local/lib/python3.7/dist-packages (from sphinx->fica>=0.2.0->otter-grader) (2.2.0)\n",
            "Requirement already satisfied: packaging in /usr/local/lib/python3.7/dist-packages (from sphinx->fica>=0.2.0->otter-grader) (21.3)\n",
            "Requirement already satisfied: sphinxcontrib-websupport in /usr/local/lib/python3.7/dist-packages (from sphinx->fica>=0.2.0->otter-grader) (1.2.4)\n",
            "Requirement already satisfied: babel!=2.0,>=1.3 in /usr/local/lib/python3.7/dist-packages (from sphinx->fica>=0.2.0->otter-grader) (2.11.0)\n",
            "Requirement already satisfied: imagesize in /usr/local/lib/python3.7/dist-packages (from sphinx->fica>=0.2.0->otter-grader) (1.4.1)\n",
            "Requirement already satisfied: pyparsing!=3.0.5,>=2.0.2 in /usr/local/lib/python3.7/dist-packages (from packaging->sphinx->fica>=0.2.0->otter-grader) (3.0.9)\n",
            "Requirement already satisfied: sphinxcontrib-serializinghtml in /usr/local/lib/python3.7/dist-packages (from sphinxcontrib-websupport->sphinx->fica>=0.2.0->otter-grader) (1.1.5)\n",
            "fatal: destination path 'public' already exists and is not an empty directory.\n"
          ]
        }
      ],
      "source": [
        "!pip install otter-grader\n",
        "!git clone https://github.com/chandar-lab/INF8245e-assignments-public.git public"
      ]
    },
    {
      "cell_type": "code",
      "execution_count": 2,
      "metadata": {
        "id": "RCnoLLOEy3Lc"
      },
      "outputs": [],
      "source": [
        "# Initialize Otter\n",
        "import otter\n",
        "grader = otter.Notebook(colab=True, tests_dir='./public/assignment_3_python/tests')"
      ]
    },
    {
      "cell_type": "markdown",
      "metadata": {
        "id": "oDVfoFuHy3Lc"
      },
      "source": [
        "Without further ado, let's load our data!"
      ]
    },
    {
      "cell_type": "code",
      "execution_count": 3,
      "metadata": {
        "id": "LFxhM0Ojy3Lc"
      },
      "outputs": [],
      "source": [
        "# Import Packages  \n",
        "import pandas\n",
        "import numpy\n",
        "import string\n",
        "\n",
        "# Load data\n",
        "train_data = pandas.read_json(\"./public/assignment_3_python/data/train_data.json\", lines=True)[[\"reviewText\", \"overall\"]]\n",
        "val_data = pandas.read_json(\"./public/assignment_3_python/data/val_data.json\", lines=True)[[\"reviewText\", \"overall\"]]\n",
        "test_data = pandas.read_json(\"./public/assignment_3_python/data/test_data.json\", lines=True)[[\"reviewText\", \"overall\"]]"
      ]
    },
    {
      "cell_type": "markdown",
      "metadata": {
        "id": "jzgYS5sRy3Ld"
      },
      "source": [
        "Let's take a look at some of our reviews..."
      ]
    },
    {
      "cell_type": "code",
      "execution_count": 4,
      "metadata": {
        "id": "a-st2VHqy3Le",
        "colab": {
          "base_uri": "https://localhost:8080/",
          "height": 424
        },
        "outputId": "3a030d2c-6631-4efc-95ce-4e70b1791eaf"
      },
      "outputs": [
        {
          "output_type": "execute_result",
          "data": {
            "text/plain": [
              "                                             reviewText  overall\n",
              "0     I'm a PC gamer and enjoyed DiRT 1 thoroughly, ...        1\n",
              "1     hackers all over on team fortress and if you c...        1\n",
              "2     I had the xbox 360 for a short time when I got...        1\n",
              "3     Well........ I don't even know how to start of...        1\n",
              "4     UGGHHH...Why? I really wanted this to be a goo...        1\n",
              "...                                                 ...      ...\n",
              "4995  This bundle is a bargain especially if you hav...        5\n",
              "4996  This game, albeit aged, still has better AI th...        5\n",
              "4997  I got a Gamecube just so I could play this gam...        5\n",
              "4998  This is adventure bliss.....well done.I am sho...        5\n",
              "4999  We have several wii games of different flavors...        5\n",
              "\n",
              "[5000 rows x 2 columns]"
            ],
            "text/html": [
              "\n",
              "  <div id=\"df-b375621c-3788-4631-ad77-4737b62827a1\">\n",
              "    <div class=\"colab-df-container\">\n",
              "      <div>\n",
              "<style scoped>\n",
              "    .dataframe tbody tr th:only-of-type {\n",
              "        vertical-align: middle;\n",
              "    }\n",
              "\n",
              "    .dataframe tbody tr th {\n",
              "        vertical-align: top;\n",
              "    }\n",
              "\n",
              "    .dataframe thead th {\n",
              "        text-align: right;\n",
              "    }\n",
              "</style>\n",
              "<table border=\"1\" class=\"dataframe\">\n",
              "  <thead>\n",
              "    <tr style=\"text-align: right;\">\n",
              "      <th></th>\n",
              "      <th>reviewText</th>\n",
              "      <th>overall</th>\n",
              "    </tr>\n",
              "  </thead>\n",
              "  <tbody>\n",
              "    <tr>\n",
              "      <th>0</th>\n",
              "      <td>I'm a PC gamer and enjoyed DiRT 1 thoroughly, ...</td>\n",
              "      <td>1</td>\n",
              "    </tr>\n",
              "    <tr>\n",
              "      <th>1</th>\n",
              "      <td>hackers all over on team fortress and if you c...</td>\n",
              "      <td>1</td>\n",
              "    </tr>\n",
              "    <tr>\n",
              "      <th>2</th>\n",
              "      <td>I had the xbox 360 for a short time when I got...</td>\n",
              "      <td>1</td>\n",
              "    </tr>\n",
              "    <tr>\n",
              "      <th>3</th>\n",
              "      <td>Well........ I don't even know how to start of...</td>\n",
              "      <td>1</td>\n",
              "    </tr>\n",
              "    <tr>\n",
              "      <th>4</th>\n",
              "      <td>UGGHHH...Why? I really wanted this to be a goo...</td>\n",
              "      <td>1</td>\n",
              "    </tr>\n",
              "    <tr>\n",
              "      <th>...</th>\n",
              "      <td>...</td>\n",
              "      <td>...</td>\n",
              "    </tr>\n",
              "    <tr>\n",
              "      <th>4995</th>\n",
              "      <td>This bundle is a bargain especially if you hav...</td>\n",
              "      <td>5</td>\n",
              "    </tr>\n",
              "    <tr>\n",
              "      <th>4996</th>\n",
              "      <td>This game, albeit aged, still has better AI th...</td>\n",
              "      <td>5</td>\n",
              "    </tr>\n",
              "    <tr>\n",
              "      <th>4997</th>\n",
              "      <td>I got a Gamecube just so I could play this gam...</td>\n",
              "      <td>5</td>\n",
              "    </tr>\n",
              "    <tr>\n",
              "      <th>4998</th>\n",
              "      <td>This is adventure bliss.....well done.I am sho...</td>\n",
              "      <td>5</td>\n",
              "    </tr>\n",
              "    <tr>\n",
              "      <th>4999</th>\n",
              "      <td>We have several wii games of different flavors...</td>\n",
              "      <td>5</td>\n",
              "    </tr>\n",
              "  </tbody>\n",
              "</table>\n",
              "<p>5000 rows × 2 columns</p>\n",
              "</div>\n",
              "      <button class=\"colab-df-convert\" onclick=\"convertToInteractive('df-b375621c-3788-4631-ad77-4737b62827a1')\"\n",
              "              title=\"Convert this dataframe to an interactive table.\"\n",
              "              style=\"display:none;\">\n",
              "        \n",
              "  <svg xmlns=\"http://www.w3.org/2000/svg\" height=\"24px\"viewBox=\"0 0 24 24\"\n",
              "       width=\"24px\">\n",
              "    <path d=\"M0 0h24v24H0V0z\" fill=\"none\"/>\n",
              "    <path d=\"M18.56 5.44l.94 2.06.94-2.06 2.06-.94-2.06-.94-.94-2.06-.94 2.06-2.06.94zm-11 1L8.5 8.5l.94-2.06 2.06-.94-2.06-.94L8.5 2.5l-.94 2.06-2.06.94zm10 10l.94 2.06.94-2.06 2.06-.94-2.06-.94-.94-2.06-.94 2.06-2.06.94z\"/><path d=\"M17.41 7.96l-1.37-1.37c-.4-.4-.92-.59-1.43-.59-.52 0-1.04.2-1.43.59L10.3 9.45l-7.72 7.72c-.78.78-.78 2.05 0 2.83L4 21.41c.39.39.9.59 1.41.59.51 0 1.02-.2 1.41-.59l7.78-7.78 2.81-2.81c.8-.78.8-2.07 0-2.86zM5.41 20L4 18.59l7.72-7.72 1.47 1.35L5.41 20z\"/>\n",
              "  </svg>\n",
              "      </button>\n",
              "      \n",
              "  <style>\n",
              "    .colab-df-container {\n",
              "      display:flex;\n",
              "      flex-wrap:wrap;\n",
              "      gap: 12px;\n",
              "    }\n",
              "\n",
              "    .colab-df-convert {\n",
              "      background-color: #E8F0FE;\n",
              "      border: none;\n",
              "      border-radius: 50%;\n",
              "      cursor: pointer;\n",
              "      display: none;\n",
              "      fill: #1967D2;\n",
              "      height: 32px;\n",
              "      padding: 0 0 0 0;\n",
              "      width: 32px;\n",
              "    }\n",
              "\n",
              "    .colab-df-convert:hover {\n",
              "      background-color: #E2EBFA;\n",
              "      box-shadow: 0px 1px 2px rgba(60, 64, 67, 0.3), 0px 1px 3px 1px rgba(60, 64, 67, 0.15);\n",
              "      fill: #174EA6;\n",
              "    }\n",
              "\n",
              "    [theme=dark] .colab-df-convert {\n",
              "      background-color: #3B4455;\n",
              "      fill: #D2E3FC;\n",
              "    }\n",
              "\n",
              "    [theme=dark] .colab-df-convert:hover {\n",
              "      background-color: #434B5C;\n",
              "      box-shadow: 0px 1px 3px 1px rgba(0, 0, 0, 0.15);\n",
              "      filter: drop-shadow(0px 1px 2px rgba(0, 0, 0, 0.3));\n",
              "      fill: #FFFFFF;\n",
              "    }\n",
              "  </style>\n",
              "\n",
              "      <script>\n",
              "        const buttonEl =\n",
              "          document.querySelector('#df-b375621c-3788-4631-ad77-4737b62827a1 button.colab-df-convert');\n",
              "        buttonEl.style.display =\n",
              "          google.colab.kernel.accessAllowed ? 'block' : 'none';\n",
              "\n",
              "        async function convertToInteractive(key) {\n",
              "          const element = document.querySelector('#df-b375621c-3788-4631-ad77-4737b62827a1');\n",
              "          const dataTable =\n",
              "            await google.colab.kernel.invokeFunction('convertToInteractive',\n",
              "                                                     [key], {});\n",
              "          if (!dataTable) return;\n",
              "\n",
              "          const docLinkHtml = 'Like what you see? Visit the ' +\n",
              "            '<a target=\"_blank\" href=https://colab.research.google.com/notebooks/data_table.ipynb>data table notebook</a>'\n",
              "            + ' to learn more about interactive tables.';\n",
              "          element.innerHTML = '';\n",
              "          dataTable['output_type'] = 'display_data';\n",
              "          await google.colab.output.renderOutput(dataTable, element);\n",
              "          const docLink = document.createElement('div');\n",
              "          docLink.innerHTML = docLinkHtml;\n",
              "          element.appendChild(docLink);\n",
              "        }\n",
              "      </script>\n",
              "    </div>\n",
              "  </div>\n",
              "  "
            ]
          },
          "metadata": {},
          "execution_count": 4
        }
      ],
      "source": [
        "val_data"
      ]
    },
    {
      "cell_type": "markdown",
      "metadata": {
        "id": "WJiqig89y3Le"
      },
      "source": [
        "Most of the algorithms described in the class take the input as a vector. However, the reviews are natural language text of a varying number of words. The first step would be to convert this varying-length movie review to a fixed-length vector representation. We will consider two different ways of vectorizing the natural language text: binary bag-of-words representation and frequency bag-of-words representation (as explained next)."
      ]
    },
    {
      "cell_type": "markdown",
      "metadata": {
        "id": "t-z8kIZLy3Le"
      },
      "source": [
        "### 1. Pre-processing instructions for binary bag-of-words (6 points)\n",
        "\n",
        "The first step is to construct the word vocabulary for a dataset. Given a dataset, we will only consider the training set and enumerate all unique words in the training set reviews (think about why we should not include validation and test set in the vocabulary construction process). To do this, we should do a bit of pre-processing of the raw text."
      ]
    },
    {
      "cell_type": "markdown",
      "metadata": {
        "id": "exlvJto4y3Lf"
      },
      "source": [
        "**Question 1.1 (2 points):** Pre-process the data by removing punctuation and lower-casing all words. For example, `\"Great game!\"` would become `\"great game\"`. Note: spacing between words should remain unchanged."
      ]
    },
    {
      "cell_type": "code",
      "execution_count": 5,
      "metadata": {
        "tags": [],
        "id": "dooLrxJly3Lf"
      },
      "outputs": [],
      "source": [
        "from pandas.core.groupby.groupby import DataError\n",
        "def remove_punctuation(data: pandas.Series) -> pandas.Series:\n",
        "    \"\"\" Removes punctation marks from data.\n",
        "\n",
        "    Args:\n",
        "        data (pandas.Series): a Pandas Series containing the original data\n",
        "\n",
        "    Returns:\n",
        "        data_punctuation_free (pandas.Series):a Pandas Series containing the original data withuout punctuation marks\n",
        "    \"\"\"\n",
        "\n",
        "    for char in string.punctuation:\n",
        "      data = data.astype(str).str.replace(char, '', regex=False)\n",
        "\n",
        "    return data\n",
        "\n",
        "def set_to_lower_case(data: pandas.Series) -> pandas.Series:\n",
        "    \"\"\" Sets all characters in data to lower-case.\n",
        "\n",
        "    Args:\n",
        "        data (pandas.Series): a Pandas Series containing the original data\n",
        "\n",
        "    Returns:\n",
        "        data_lower_cased (pandas.Series): a Pandas Series containing the original data lower-cased\n",
        "    \"\"\"\n",
        "    data = data.astype(str).str.lower()\n",
        "\n",
        "    return data\n",
        "\n",
        "train_data[\"reviewText\"] = remove_punctuation(train_data['reviewText'])\n",
        "val_data[\"reviewText\"] = remove_punctuation(val_data['reviewText'])\n",
        "test_data[\"reviewText\"] = remove_punctuation(test_data['reviewText'])\n",
        "\n",
        "train_data[\"reviewText\"] = set_to_lower_case(train_data['reviewText'])\n",
        "val_data[\"reviewText\"] = set_to_lower_case(val_data['reviewText'])\n",
        "test_data[\"reviewText\"] = set_to_lower_case(test_data['reviewText'])"
      ]
    },
    {
      "cell_type": "code",
      "execution_count": 6,
      "metadata": {
        "deletable": false,
        "editable": false,
        "id": "w7bxSuOgy3Lg",
        "colab": {
          "base_uri": "https://localhost:8080/",
          "height": 47
        },
        "outputId": "a853d269-ff5f-42bf-bb97-811106a65366"
      },
      "outputs": [
        {
          "output_type": "execute_result",
          "data": {
            "text/plain": [
              "q1.1 results: All test cases passed!"
            ],
            "text/html": [
              "<p><strong><pre style='display: inline;'>q1.1</pre></strong> passed! 🚀</p>"
            ]
          },
          "metadata": {},
          "execution_count": 6
        }
      ],
      "source": [
        "grader.check(\"q1.1\")"
      ]
    },
    {
      "cell_type": "markdown",
      "metadata": {
        "id": "w5jG_1f0y3Lg"
      },
      "source": [
        "**Question 1.2 (2 points):** Now you will construct the vocabulary. First, count the frequency of each word in the training set and sort the words in the vocabulary based on frequency (in descending order). Then, maintaining the aforementioned descending ordering, pick the top 1,000 words in the vocabulary and ignore the rest of the words. These 1,000 words will form the feature set for our classification process."
      ]
    },
    {
      "cell_type": "code",
      "execution_count": 7,
      "metadata": {
        "tags": [],
        "id": "C6gZI0n9y3Lg"
      },
      "outputs": [],
      "source": [
        "def pick_most_frequent_words(data: pandas.Series, vocab_size: int) -> list:\n",
        "    \"\"\" Sorts the words in data by frequency in descending order and picks the top vocab_size most frequent words\n",
        "\n",
        "    Args:\n",
        "        data (pandas.Series): a Pandas Series containing the original data\n",
        "        vocab_size (int): the number of top words to pick\n",
        "\n",
        "    Returns:\n",
        "        most_frequent_words (list): a list with the top vocab_size most frequent words (in descending order of frequency)\n",
        "    \"\"\"\n",
        "    \n",
        "\n",
        "    data = set_to_lower_case(remove_punctuation(data))\n",
        "\n",
        "    data = data.str.split()\n",
        "    data = data.apply(pandas.Series).stack().reset_index(drop=True)                 \n",
        "\n",
        "    occurrences = data.value_counts(sort=True, ascending=True)                      \n",
        "\n",
        "    num_of_words = occurrences.size\n",
        "\n",
        "    df = pandas.DataFrame(occurrences).reset_index()\n",
        "\n",
        "    occurrences = df.loc[num_of_words - vocab_size:num_of_words, \"index\"]\n",
        "\n",
        "    data = occurrences.tolist()\n",
        "\n",
        "    data.reverse()\n",
        "\n",
        "    return data\n",
        "\n",
        "vocab = pick_most_frequent_words(train_data.reviewText, 1000)"
      ]
    },
    {
      "cell_type": "code",
      "execution_count": 8,
      "metadata": {
        "deletable": false,
        "editable": false,
        "id": "uEFAnWiQy3Lg",
        "colab": {
          "base_uri": "https://localhost:8080/",
          "height": 47
        },
        "outputId": "15d669e0-76ce-44b7-cb2d-c2b15067a09b"
      },
      "outputs": [
        {
          "output_type": "execute_result",
          "data": {
            "text/plain": [
              "q1.2 results: All test cases passed!"
            ],
            "text/html": [
              "<p><strong><pre style='display: inline;'>q1.2</pre></strong> passed! 🎉</p>"
            ]
          },
          "metadata": {},
          "execution_count": 8
        }
      ],
      "source": [
        "grader.check(\"q1.2\")"
      ]
    },
    {
      "cell_type": "markdown",
      "metadata": {
        "id": "tChvaeNRy3Lh"
      },
      "source": [
        "**Question 1.3 (2 points):** Generate a 1,000-dimensional feature vector for each example in your dataset such that, for each of the top 1,000 words, there is one corresponding dimension in the feature vector that is 1 if the example contains that word, and 0 otherwise."
      ]
    },
    {
      "cell_type": "code",
      "execution_count": 9,
      "metadata": {
        "tags": [],
        "id": "UJrX6AMXy3Lh"
      },
      "outputs": [],
      "source": [
        "def binary_bow(data: numpy.ndarray, vocab: list) -> numpy.ndarray:\n",
        "    \"\"\" Generates a binary vector for each example in data of the size of your vocabulary. Each vector represents which words in the vocabulary are present in each example.\n",
        "\n",
        "    Args:\n",
        "        data (numpy.ndarray): the samples to vectorize\n",
        "        vocab (list): the vocabulary of words\n",
        "\n",
        "    Returns:\n",
        "        binary bag-of-words representations (numpy.ndarray): the vectorized samples\n",
        "    \"\"\"\n",
        "\n",
        "    vocab = numpy.asarray(vocab)\n",
        "    res = numpy.empty((data.shape[0], len(vocab)))\n",
        "\n",
        "    for i, element in enumerate(data):\n",
        "      split_element = element.split()\n",
        "      res[i] = numpy.where(numpy.isin(vocab, numpy.array(split_element)), 1, 0)\n",
        "\n",
        "    return res.astype(int)\n",
        "\n",
        "binary_bow_train_data = binary_bow(train_data.reviewText.to_numpy(), vocab)\n",
        "binary_bow_val_data = binary_bow(val_data.reviewText.to_numpy(), vocab)\n",
        "binary_bow_test_data = binary_bow(test_data.reviewText.to_numpy(), vocab)"
      ]
    },
    {
      "cell_type": "code",
      "execution_count": 10,
      "metadata": {
        "deletable": false,
        "editable": false,
        "id": "kDcYjJ0Oy3Lh",
        "colab": {
          "base_uri": "https://localhost:8080/",
          "height": 47
        },
        "outputId": "d5fa2e61-631b-4098-c131-d45cbfc18937"
      },
      "outputs": [
        {
          "output_type": "execute_result",
          "data": {
            "text/plain": [
              "q1.3 results: All test cases passed!"
            ],
            "text/html": [
              "<p><strong><pre style='display: inline;'>q1.3</pre></strong> passed! 🎉</p>"
            ]
          },
          "metadata": {},
          "execution_count": 10
        }
      ],
      "source": [
        "grader.check(\"q1.3\")"
      ]
    },
    {
      "cell_type": "markdown",
      "metadata": {
        "id": "eRpOTuQ0y3Lh"
      },
      "source": [
        "### 2. Pre-processing instructions for frequency bag-of-words (3 points)\n",
        "\n",
        "With the frequency bag-of-words representation, the corresponding feature is now the frequency of occurrence of each of the 1,000 words in a given review."
      ]
    },
    {
      "cell_type": "markdown",
      "metadata": {
        "id": "H_uAy_xNy3Li"
      },
      "source": [
        "**Question 2.1 (3 points):** Construct the frequency bag-of-words representations for each example in your dataset. To achieve this, start by summing the occurrences of words in a review into a histogram. Then, divide by the sum of occurrences of all 1,000 words so that the vector for each example sums to 1."
      ]
    },
    {
      "cell_type": "code",
      "execution_count": 11,
      "metadata": {
        "tags": [],
        "id": "z-tNVzMMy3Li"
      },
      "outputs": [],
      "source": [
        "def frequency_bow(data: numpy.ndarray, vocab: list) -> numpy.ndarray:\n",
        "    \"\"\" Generates a real-valued vector for each example in data of the size of your vocabulary. Each vector represents the frequency of occurrence of the words in the vocabulary in each example.\n",
        "\n",
        "    Args:\n",
        "        data (numpy.ndarray): the samples to vectorize\n",
        "        vocab (list): the vocabulary of words\n",
        "\n",
        "    Returns:\n",
        "        frequency bag-of-words representations (numpy.ndarray): the vectorized samples\n",
        "    \"\"\"\n",
        "    \n",
        "    vocab = numpy.asarray(vocab)\n",
        "    res = numpy.zeros((data.shape[0], len(vocab)))\n",
        "    \n",
        "    for i, example in enumerate(data):\n",
        "      split_example = example.split()\n",
        "      counts = pandas.Series(split_example).value_counts()\n",
        "      for j, word in enumerate(vocab):\n",
        "        if numpy.isin(word, numpy.array(split_example)):\n",
        "          res[i, j] = counts[word]\n",
        "      sum_counts = sum(res[i])\n",
        "      if sum_counts != 0:\n",
        "        res[i] = (1/sum_counts) * res[i]\n",
        "      \n",
        "    return res\n",
        "\n",
        "frequency_bow_train_data = frequency_bow(train_data.reviewText.to_numpy(), vocab)\n",
        "frequency_bow_val_data = frequency_bow(val_data.reviewText.to_numpy(), vocab)\n",
        "frequency_bow_test_data = frequency_bow(test_data.reviewText.to_numpy(), vocab)"
      ]
    },
    {
      "cell_type": "code",
      "execution_count": 12,
      "metadata": {
        "deletable": false,
        "editable": false,
        "id": "MYJG4Lxiy3Li",
        "colab": {
          "base_uri": "https://localhost:8080/",
          "height": 47
        },
        "outputId": "a5926394-c4c1-46b1-fc2c-171426a0042e"
      },
      "outputs": [
        {
          "output_type": "execute_result",
          "data": {
            "text/plain": [
              "q2.1 results: All test cases passed!"
            ],
            "text/html": [
              "<p><strong><pre style='display: inline;'>q2.1</pre></strong> passed! 🚀</p>"
            ]
          },
          "metadata": {},
          "execution_count": 12
        }
      ],
      "source": [
        "grader.check(\"q2.1\")"
      ]
    },
    {
      "cell_type": "markdown",
      "metadata": {
        "id": "JTEMEUahy3Lj"
      },
      "source": [
        "### 3. Evaluation metric and baselines (3 points)\n",
        "\n",
        "We will use the F1 score to evaluate the different classifiers throughout this assignment. Note: you can use sklearn to compute the F1 scores by setting `average = 'micro'`. \n",
        "\n",
        "Let's first consider some baseline classifiers!"
      ]
    },
    {
      "cell_type": "markdown",
      "metadata": {
        "id": "MaUFRE81y3Lj"
      },
      "source": [
        "<!-- BEGIN QUESTION -->\n",
        "\n",
        "**Question 3.1 (1 point):**  As a first baseline, report the test F1 score of a random classifier (i.e. a model that classifies a review into a uniformly random class). Note: use the provided random number generator variable (**rng**) to generate your random predictions."
      ]
    },
    {
      "cell_type": "code",
      "execution_count": 13,
      "metadata": {
        "tags": [],
        "id": "qvo7HKLCy3Lj",
        "colab": {
          "base_uri": "https://localhost:8080/"
        },
        "outputId": "0af9ee51-9669-441f-c24d-d2733ef291d2"
      },
      "outputs": [
        {
          "output_type": "stream",
          "name": "stdout",
          "text": [
            "The test F1 score of the random classifier is 0.20999999999999996\n"
          ]
        }
      ],
      "source": [
        "from sklearn.metrics import f1_score\n",
        "\n",
        "y_test = test_data[\"overall\"].to_numpy()\n",
        "\n",
        "def random_classifier(y_test: numpy.ndarray) -> float:\n",
        "    \"\"\" Returns the F1 score of a random classifier.\n",
        "\n",
        "    Args:\n",
        "        y_test (numpy.ndarray): the test labels\n",
        "\n",
        "    Returns:\n",
        "        f1_score (float): F1 score between the model predictions and the test labels\n",
        "    \"\"\"\n",
        "    rng = numpy.random.default_rng(0) # use this variable to generate your random predictions\n",
        "    y_pred = numpy.ceil(rng.uniform(0, 5, y_test.shape))\n",
        "    f1 = f1_score(y_test, y_pred, average='micro')\n",
        "\n",
        "    return f1\n",
        "\n",
        "print(f\"The test F1 score of the random classifier is {random_classifier(y_test)}\")"
      ]
    },
    {
      "cell_type": "markdown",
      "metadata": {
        "id": "KbbqChVPy3Lj"
      },
      "source": [
        "<!-- END QUESTION -->\n",
        "\n",
        "<!-- BEGIN QUESTION -->\n",
        "\n",
        "**Question 3.2 (1 point):**  As a second baseline, report the test F1 score of a majority-class classifier (i.e.  a model that computes the majority class in the training set and classifies all test instances as that majority class)."
      ]
    },
    {
      "cell_type": "code",
      "execution_count": 14,
      "metadata": {
        "tags": [],
        "id": "oLW91g49y3Lj",
        "colab": {
          "base_uri": "https://localhost:8080/"
        },
        "outputId": "4e15c89b-9cfb-42e4-ff8a-c0b7f2645f92"
      },
      "outputs": [
        {
          "output_type": "stream",
          "name": "stdout",
          "text": [
            "The test F1 score of the majority-class classifier is 0.20000000000000004\n"
          ]
        }
      ],
      "source": [
        "from numpy.core.fromnumeric import argmax\n",
        "y_train = train_data[\"overall\"].to_numpy()\n",
        "\n",
        "def majority_classifier(y_train: numpy.ndarray, y_test: numpy.ndarray):\n",
        "    \"\"\" Returns the F1 score of a majority-class classifier.\n",
        "\n",
        "    Args:\n",
        "        y_train (numpy.ndarray): the train labels\n",
        "        y_test (numpy.ndarray): the test labels\n",
        "\n",
        "    Returns:\n",
        "        f1_score (float): F1 score between the model predictions and the test labels\n",
        "    \"\"\"\n",
        "    \n",
        "    majority_class = argmax(numpy.bincount(y_train))\n",
        "    y_pred = numpy.full(y_test.shape, majority_class)\n",
        "\n",
        "    f1 = f1_score(y_test, y_pred, average='micro')\n",
        "\n",
        "    return f1\n",
        "\n",
        "print(f\"The test F1 score of the majority-class classifier is {majority_classifier(y_train, y_test)}\")"
      ]
    },
    {
      "cell_type": "markdown",
      "metadata": {
        "id": "RaCi06jDy3Lk"
      },
      "source": [
        "<!-- END QUESTION -->\n",
        "\n",
        "<!-- BEGIN QUESTION -->\n",
        "\n",
        "**Question 3.3 (1 point):**  What does the performance of the baseline classifiers suggest about the dataset? (1 sentence)"
      ]
    },
    {
      "cell_type": "markdown",
      "metadata": {
        "id": "r0r5vZQJy3Lk"
      },
      "source": [
        "**Answer 3.3:** The fact that both metrics are close to 0.2 suggests that the samples are close to uniformly distributed over the 5 classes. We can also see this by printing the result of calling the method bincount() on the dataset."
      ]
    },
    {
      "cell_type": "markdown",
      "metadata": {
        "id": "WoVEyUcqy3Lk"
      },
      "source": [
        "<!-- END QUESTION -->\n",
        "\n",
        "### 4. Naive Bayes classifier (4 points)\n",
        "\n",
        "Now you are ready to start training some classifiers! "
      ]
    },
    {
      "cell_type": "markdown",
      "metadata": {
        "id": "pS5ieg8ny3Lk"
      },
      "source": [
        "**Question 4.1 (2 points):**  Train a naive Bayes classifier using binary bag-of-words and report the training, validation, and test F1 scores. Use the appropriate naive Bayes classifier for binary input features (Bernoulli naive Bayes) with sklearn's default smoothing parameter. Note: you should call the **fit_and_predict** function throughout the assignment."
      ]
    },
    {
      "cell_type": "code",
      "execution_count": 15,
      "metadata": {
        "tags": [],
        "id": "tHLnMoIuy3Lk",
        "colab": {
          "base_uri": "https://localhost:8080/"
        },
        "outputId": "cc541e64-613a-41e3-be01-73d20c98ee97"
      },
      "outputs": [
        {
          "output_type": "stream",
          "name": "stdout",
          "text": [
            "The training, validation, and test F1 scores of the Bernoulli naive Bayes model using binary bag-of-words are 0.39016, 0.3706, and 0.364\n"
          ]
        }
      ],
      "source": [
        "from sklearn.naive_bayes import BernoulliNB\n",
        "\n",
        "def fit_and_predict(model, x_fit: numpy.ndarray, y_fit: numpy.ndarray, x_pred: numpy.ndarray, y_pred: numpy.ndarray) -> float:\n",
        "    \"\"\" Fits a sklearn model using x_fit and y_fit and predicts the labels for x_pred. Returns the F1 score between the model predictions and y_pred\n",
        "\n",
        "    Args:\n",
        "        model: sklearn model\n",
        "        x_fit (numpy.ndarray): the samples to fit\n",
        "        y_fit (numpy.ndarray): the labels to fit\n",
        "        x_pred (numpy.ndarray): the samples to predict\n",
        "        y_pred (numpy.ndarray): the ground truth labels\n",
        "\n",
        "    Returns:\n",
        "        f1_score (float): F1 score between the model predictions for x_pred and the ground truth (y_pred)\n",
        "    \"\"\"\n",
        "    model.fit(x_fit, y_fit)\n",
        "    f1 = f1_score(y_pred, model.predict(x_pred), average='micro')\n",
        "\n",
        "    return f1\n",
        "\n",
        "def bernoulli_naive_bayes(binary_bow_train_data: numpy.ndarray, y_train: numpy.ndarray, binary_bow_val_data: numpy.ndarray, y_val: numpy.ndarray, binary_bow_test_data: numpy.ndarray, y_test: numpy.ndarray):\n",
        "    \"\"\" Trains a Benoulli naive Bayes classifier and returns the training, validation, and test F1 scores.\n",
        "\n",
        "    Args:\n",
        "        binary_bow_train_data (numpy.ndarray): the binary bag-of-words representations of the training data\n",
        "        y_train (numpy.ndarray): the labels of the training data\n",
        "        binary_bow_val_data (numpy.ndarray): the binary bag-of-words representations of the validation data\n",
        "        y_val (numpy.ndarray): the labels of the validation data\n",
        "        binary_bow_test_data (numpy.ndarray): the binary bag-of-words representations of the test data\n",
        "        y_test (numpy.ndarray): the labels of the test data\n",
        "\n",
        "    Returns:\n",
        "        train_f1_score (float): F1 score predicted on the training set\n",
        "        val_f1_score (float): F1 score predicted on the validation set\n",
        "        test_f1_score (float): F1 score predicted on the test set\n",
        "    \"\"\"\n",
        "\n",
        "    f1_train_bnb_bow = fit_and_predict(BernoulliNB(), binary_bow_train_data, y_train, binary_bow_train_data, y_train)\n",
        "    f1_val_bnb_bow = fit_and_predict(BernoulliNB(), binary_bow_train_data, y_train, binary_bow_val_data, y_val)\n",
        "    f1_test_bnb_bow = fit_and_predict(BernoulliNB(), binary_bow_train_data, y_train, binary_bow_test_data, y_test)\n",
        "\n",
        "    return f1_train_bnb_bow, f1_val_bnb_bow, f1_test_bnb_bow\n",
        "\n",
        "y_val = val_data[\"overall\"].to_numpy()\n",
        "\n",
        "f1_train_bnb_bow, f1_val_bnb_bow, f1_test_bnb_bow = bernoulli_naive_bayes(binary_bow_train_data, y_train, binary_bow_val_data, y_val, binary_bow_test_data, y_test)\n",
        "print(f\"The training, validation, and test F1 scores of the Bernoulli naive Bayes model using binary bag-of-words are {f1_train_bnb_bow}, {f1_val_bnb_bow}, and {f1_test_bnb_bow}\")"
      ]
    },
    {
      "cell_type": "code",
      "execution_count": 16,
      "metadata": {
        "deletable": false,
        "editable": false,
        "id": "Rm1xpFqry3Ll",
        "colab": {
          "base_uri": "https://localhost:8080/",
          "height": 47
        },
        "outputId": "15af384e-1beb-40b6-dc26-1c1d7417b0e3"
      },
      "outputs": [
        {
          "output_type": "execute_result",
          "data": {
            "text/plain": [
              "q4.1 results: All test cases passed!"
            ],
            "text/html": [
              "<p><strong><pre style='display: inline;'>q4.1</pre></strong> passed! 🌈</p>"
            ]
          },
          "metadata": {},
          "execution_count": 16
        }
      ],
      "source": [
        "grader.check(\"q4.1\")"
      ]
    },
    {
      "cell_type": "markdown",
      "metadata": {
        "id": "OBn640zRy3Ll"
      },
      "source": [
        "**Question 4.2 (2 points):**  Repeat the previous experiment using frequency bag-of-words and report the training, validation, and test F1 scores. Use the appropriate naive Bayes classifier\n",
        "for real-valued input features (Gaussian naive Bayes) with sklearn's default smoothing parameter."
      ]
    },
    {
      "cell_type": "code",
      "execution_count": 17,
      "metadata": {
        "tags": [],
        "id": "6G-WHOFBy3Ll",
        "colab": {
          "base_uri": "https://localhost:8080/"
        },
        "outputId": "cb78de4e-cd1b-4e55-e06c-4f3a5de3e08e"
      },
      "outputs": [
        {
          "output_type": "stream",
          "name": "stdout",
          "text": [
            "The training, validation, and test F1 scores of the Gaussian naive Bayes model using frequency bag-of-words are 0.40212, 0.37899999999999995, and 0.3472\n"
          ]
        }
      ],
      "source": [
        "from sklearn.naive_bayes import GaussianNB\n",
        "def gaussian_naive_bayes(frequency_bow_train_data: numpy.ndarray, y_train: numpy.ndarray, frequency_bow_val_data: numpy.ndarray, y_val: numpy.ndarray, frequency_bow_test_data: numpy.ndarray, y_test: numpy.ndarray):\n",
        "    \"\"\" Trains a Gaussian naive Bayes classifier.\n",
        "\n",
        "    Args:\n",
        "        frequency_bow_train_data (numpy.ndarray): the frequency bag-of-words representations of the training data\n",
        "        y_train (numpy.ndarray): the labels of the training data\n",
        "        frequency_bow_val_data (numpy.ndarray): the frequency bag-of-words representations of the validation data\n",
        "        y_val (numpy.ndarray): the labels of the validation data\n",
        "        frequency_bow_test_data (numpy.ndarray): the frequency bag-of-words representations of the test data\n",
        "        y_test (numpy.ndarray): the labels of the test data\n",
        "\n",
        "    Returns:\n",
        "        train_f1_score (float): F1 score predicted on the training set\n",
        "        val_f1_score (float): F1 score predicted on the validation set\n",
        "        test_f1_score (float): F1 score predicted on the test set\n",
        "    \"\"\"\n",
        "    f1_train_gnb_fbow = fit_and_predict(GaussianNB(), frequency_bow_train_data, y_train, frequency_bow_train_data, y_train)\n",
        "    f1_val_gnb_fbow = fit_and_predict(GaussianNB(), frequency_bow_train_data, y_train, frequency_bow_val_data, y_val)\n",
        "    f1_test_gnb_fbow = fit_and_predict(GaussianNB(), frequency_bow_train_data, y_train, frequency_bow_test_data, y_test)\n",
        "\n",
        "    return f1_train_gnb_fbow, f1_val_gnb_fbow, f1_test_gnb_fbow\n",
        "\n",
        "f1_train_gnb_fbow, f1_val_gnb_fbow, f1_test_gnb_fbow = gaussian_naive_bayes(frequency_bow_train_data, y_train, frequency_bow_val_data, y_val, frequency_bow_test_data, y_test)\n",
        "print(f\"The training, validation, and test F1 scores of the Gaussian naive Bayes model using frequency bag-of-words are {f1_train_gnb_fbow}, {f1_val_gnb_fbow}, and {f1_test_gnb_fbow}\")"
      ]
    },
    {
      "cell_type": "code",
      "execution_count": 18,
      "metadata": {
        "deletable": false,
        "editable": false,
        "id": "vCWNKGv7y3Ll",
        "colab": {
          "base_uri": "https://localhost:8080/",
          "height": 261
        },
        "outputId": "0dcd0fb2-9a5f-4484-9ebf-b6fcd3d8270e"
      },
      "outputs": [
        {
          "output_type": "stream",
          "name": "stderr",
          "text": [
            "/usr/local/lib/python3.7/dist-packages/sklearn/naive_bayes.py:489: RuntimeWarning: divide by zero encountered in log\n",
            "  n_ij = -0.5 * np.sum(np.log(2.0 * np.pi * self.var_[i, :]))\n",
            "/usr/local/lib/python3.7/dist-packages/sklearn/naive_bayes.py:490: RuntimeWarning: invalid value encountered in true_divide\n",
            "  n_ij -= 0.5 * np.sum(((X - self.theta_[i, :]) ** 2) / (self.var_[i, :]), 1)\n",
            "/usr/local/lib/python3.7/dist-packages/sklearn/naive_bayes.py:489: RuntimeWarning: divide by zero encountered in log\n",
            "  n_ij = -0.5 * np.sum(np.log(2.0 * np.pi * self.var_[i, :]))\n",
            "/usr/local/lib/python3.7/dist-packages/sklearn/naive_bayes.py:490: RuntimeWarning: invalid value encountered in true_divide\n",
            "  n_ij -= 0.5 * np.sum(((X - self.theta_[i, :]) ** 2) / (self.var_[i, :]), 1)\n",
            "/usr/local/lib/python3.7/dist-packages/sklearn/naive_bayes.py:489: RuntimeWarning: divide by zero encountered in log\n",
            "  n_ij = -0.5 * np.sum(np.log(2.0 * np.pi * self.var_[i, :]))\n",
            "/usr/local/lib/python3.7/dist-packages/sklearn/naive_bayes.py:490: RuntimeWarning: invalid value encountered in true_divide\n",
            "  n_ij -= 0.5 * np.sum(((X - self.theta_[i, :]) ** 2) / (self.var_[i, :]), 1)\n"
          ]
        },
        {
          "output_type": "execute_result",
          "data": {
            "text/plain": [
              "q4.2 results: All test cases passed!"
            ],
            "text/html": [
              "<p><strong><pre style='display: inline;'>q4.2</pre></strong> passed! 🚀</p>"
            ]
          },
          "metadata": {},
          "execution_count": 18
        }
      ],
      "source": [
        "grader.check(\"q4.2\")"
      ]
    },
    {
      "cell_type": "markdown",
      "metadata": {
        "id": "7N9kwqhyy3Lm"
      },
      "source": [
        "### 5.  Decision trees classifier (6 points)\n",
        "\n",
        "Now let's try decision trees. From here on, you are expected to do a thorough hyper-parameter tuning by using the given validation set for each classifier. You are expected to use the function below to plot your hyper-parameter tuning in the following two questions."
      ]
    },
    {
      "cell_type": "code",
      "execution_count": 19,
      "metadata": {
        "id": "tmJlnkc0y3Lm"
      },
      "outputs": [],
      "source": [
        "import matplotlib.pyplot as plt\n",
        "\n",
        "def visualize_hyperparameter_tuning(hyperparameter_values: list, results: list, best_hyperparameter_value: float):\n",
        "    \"\"\" Plots the F1 scores of the different hyperparameter values and highlights the best hyperparameter value.\n",
        "\n",
        "    Args:\n",
        "        hyperparameter_values (list): the hyperparameter values used\n",
        "        results (list): the F1 scores of each hyperparameter value\n",
        "        best_hyperparameter_value (float): the best hyperparameter value\n",
        "    \"\"\"\n",
        "    if len(results) == 0: #this is just a placeholder in case there are no results\n",
        "        results = [0]*len(hyperparameter_values)\n",
        "    plt.plot(hyperparameter_values, results, \"o-\")\n",
        "    plt.axvline(best_hyperparameter_value, color=\"red\", ls=\"--\", label=\"Best configuration\")\n",
        "    plt.ylabel(\"F1 score\")\n",
        "    plt.xlabel(\"Hyper-parameter value\")\n",
        "    plt.legend()\n",
        "    plt.show()"
      ]
    },
    {
      "cell_type": "markdown",
      "metadata": {
        "id": "RpTziyS3y3Lm"
      },
      "source": [
        "<!-- BEGIN QUESTION -->\n",
        "\n",
        "**Question 5.1 (2 points):**  Train a Decision Trees classifier using binary bag-of-words and perform hyper-parameter tuning on the maximum depth of the tree. Plot your hyper-parameter tuning and report the training, validation, and test F1 scores with the best hyper-parameter configuration."
      ]
    },
    {
      "cell_type": "code",
      "execution_count": 20,
      "metadata": {
        "tags": [],
        "id": "PmDDsD3-y3Lm",
        "colab": {
          "base_uri": "https://localhost:8080/",
          "height": 299
        },
        "outputId": "ea5fb5e7-8d7b-4479-80d7-9f308334feb3"
      },
      "outputs": [
        {
          "output_type": "stream",
          "name": "stdout",
          "text": [
            "The training, validation, and test F1 scores of the best decision trees model (max_depth: 12) using binary bag-of-words are 0.44564, 0.3316, and 0.3222\n"
          ]
        },
        {
          "output_type": "display_data",
          "data": {
            "text/plain": [
              "<Figure size 432x288 with 1 Axes>"
            ],
            "image/png": "[encoded data removed]"
          },
          "metadata": {
            "needs_background": "light"
          }
        }
      ],
      "source": [
        "from sklearn.tree import DecisionTreeClassifier\n",
        "def decision_trees(bow_train_data: numpy.ndarray, y_train: numpy.ndarray, bow_val_data: numpy.ndarray, y_val: numpy.ndarray, bow_test_data: numpy.ndarray, y_test: numpy.ndarray, max_depth_values: list):\n",
        "    \"\"\" Trains a decision trees classifier.\n",
        "\n",
        "    Args:\n",
        "        bow_train_data (numpy.ndarray): the bag-of-words representations of the training data\n",
        "        y_train (numpy.ndarray): the labels of the training data\n",
        "        bow_val_data (numpy.ndarray): the bag-of-words representations of the validation data\n",
        "        y_val (numpy.ndarray): the labels of the validation data\n",
        "        bow_test_data (numpy.ndarray): the bag-of-words representations of the test data\n",
        "        y_test (numpy.ndarray): the labels of the test data\n",
        "        max_depth_values (list): the maximum depth values to try\n",
        "\n",
        "    Returns:\n",
        "        train_f1_score (float): F1 score predicted on the training set\n",
        "        val_f1_score (float): F1 score predicted on the validation set\n",
        "        test_f1_score (float): F1 score predicted on the test set\n",
        "        f1_scores (list): F1 scores of the different maximum depth values\n",
        "        best_max_depth (int): maximum depth value with the highest validation F1 score\n",
        "    \"\"\"\n",
        "\n",
        "    f1_scores = [] #TODO\n",
        "    best_max_depth = -1 #TODO\n",
        "\n",
        "    for max_depth_value in max_depth_values:\n",
        "      f1_val_score = fit_and_predict(DecisionTreeClassifier(max_depth=max_depth_value), bow_train_data, y_train, bow_val_data, y_val)\n",
        "      f1_scores.append(f1_val_score)\n",
        "      \n",
        "    best_max_depth = max_depth_values[numpy.argmax(f1_scores)]\n",
        "\n",
        "    f1_train_dt_best_config_bow = fit_and_predict(DecisionTreeClassifier(max_depth=best_max_depth), bow_train_data, y_train, bow_train_data, y_train)\n",
        "    f1_val_dt_best_config_bow = fit_and_predict(DecisionTreeClassifier(max_depth=best_max_depth), bow_train_data, y_train, bow_val_data, y_val)\n",
        "    f1_test_dt_best_config_bow = fit_and_predict(DecisionTreeClassifier(max_depth=best_max_depth), bow_train_data, y_train, bow_test_data, y_test)\n",
        "\n",
        "    return f1_train_dt_best_config_bow, f1_val_dt_best_config_bow, f1_test_dt_best_config_bow, f1_scores, best_max_depth\n",
        "\n",
        "max_depth_values = [10, 11, 12, 13, 14]\n",
        "\n",
        "f1_train_dt_best_config_bow, f1_val_dt_best_config_bow, f1_test_dt_best_config_bow, f1_scores, best_max_depth = decision_trees(binary_bow_train_data, y_train, binary_bow_val_data, y_val, binary_bow_test_data, y_test, max_depth_values)\n",
        "print(f\"The training, validation, and test F1 scores of the best decision trees model (max_depth: {best_max_depth}) using binary bag-of-words are {f1_train_dt_best_config_bow}, {f1_val_dt_best_config_bow}, and {f1_test_dt_best_config_bow}\")\n",
        "visualize_hyperparameter_tuning(max_depth_values, f1_scores, best_max_depth)"
      ]
    },
    {
      "cell_type": "markdown",
      "metadata": {
        "id": "oX84fZmCy3Ln"
      },
      "source": [
        "<!-- END QUESTION -->\n",
        "\n",
        "<!-- BEGIN QUESTION -->\n",
        "\n",
        "**Question 5.2 (2 points):**  Repeat the previous experiment by performing hyper-parameter tuning using frequency bag-of-words."
      ]
    },
    {
      "cell_type": "code",
      "execution_count": 21,
      "metadata": {
        "tags": [],
        "id": "l54a_1u3y3Ln",
        "colab": {
          "base_uri": "https://localhost:8080/",
          "height": 297
        },
        "outputId": "76a54c35-9b8f-4828-a3c9-9a6bb6faf9ba"
      },
      "outputs": [
        {
          "output_type": "stream",
          "name": "stdout",
          "text": [
            "The training, validation, and test F1 scores of the best decision trees model (max_depth: 8) using frequency bag-of-words are 0.3588, 0.3222, and 0.313\n"
          ]
        },
        {
          "output_type": "display_data",
          "data": {
            "text/plain": [
              "<Figure size 432x288 with 1 Axes>"
            ],
            "image/png": "[encoded data removed]"
          },
          "metadata": {
            "needs_background": "light"
          }
        }
      ],
      "source": [
        "max_depth_values = [1, 2, 3, 4, 6, 7, 8]\n",
        "\n",
        "f1_train_dt_best_config_fbow, f1_val_dt_best_config_fbow, f1_test_dt_best_config_fbow, f1_scores, best_max_depth = decision_trees(frequency_bow_train_data, y_train, frequency_bow_val_data, y_val, frequency_bow_test_data, y_test, max_depth_values)\n",
        "print(f\"The training, validation, and test F1 scores of the best decision trees model (max_depth: {best_max_depth}) using frequency bag-of-words are {f1_train_dt_best_config_fbow}, {f1_val_dt_best_config_fbow}, and {f1_test_dt_best_config_fbow}\")\n",
        "visualize_hyperparameter_tuning(max_depth_values, f1_scores, best_max_depth)"
      ]
    },
    {
      "cell_type": "markdown",
      "metadata": {
        "id": "Jl9BeKBXy3Ln"
      },
      "source": [
        "<!-- END QUESTION -->\n",
        "\n",
        "<!-- BEGIN QUESTION -->\n",
        "\n",
        "**Question 5.3 (2 points):**  Explain how you chose the hyperparameter range for each representation. (1-2 sentences)"
      ]
    },
    {
      "cell_type": "markdown",
      "metadata": {
        "id": "Z_Mqo2k1y3Ln"
      },
      "source": [
        "**Answer 5.3:** I start with a set of three numbers where I know that the lowest number is too low (like 1), where I assume that the highest number is too high (like 20) and where the middle number is the integer in the middle of the higher and lower boundary. I run the code, identify the highest F1-score among the three hyperparameter values and narrow down the range until i find a maximum F1 score."
      ]
    },
    {
      "cell_type": "markdown",
      "metadata": {
        "id": "6gQdvkgFy3Lo"
      },
      "source": [
        "<!-- END QUESTION -->\n",
        "\n",
        "### 6.  Logistic regression classifier (6 points)\n",
        "\n",
        "Let's move on to logistic regression. For the rest of the assignment, you will be asked to tune multiple hyper-parameters. Use the function below to plot your finetuning. Note: you will need to fill out the results dictionary appropriately (i.e. {\"max_iter: x, C: y\": result})."
      ]
    },
    {
      "cell_type": "code",
      "execution_count": 22,
      "metadata": {
        "id": "M6-iToXMy3Lo"
      },
      "outputs": [],
      "source": [
        "def visualize_multi_hyperparameter_tuning(results: dict, best_hyperparameter_config: str):\n",
        "    \"\"\" Plots the F1 scores of the different hyperparameter configurations and highlights the best hyperparameter configuration.\n",
        "\n",
        "    Args:\n",
        "        results (dict): dictionary with each hyperparameter configuration as key and corresponding F1 score as value\n",
        "        best_hyperparameter_config (str): the key representing the best hyperparameter configuration in the results dictionary\n",
        "    \"\"\"\n",
        "    if not results: #this is just a placeholder in case there are no results\n",
        "        for max_iter in [-1, 0, 1]:\n",
        "            for C in [-1, 0, 1]:\n",
        "                results[f\"max_iter: {max_iter}, C: {C}\"] = -1\n",
        "    plt.plot(range(len(results)), list(results.values()), \"o-\")\n",
        "    plt.axvline(list(results.keys()).index(best_hyperparameter_config), color=\"red\", ls=\"--\", label=\"Best configuration\")\n",
        "    plt.xticks(range(len(results)), list(results.keys()), rotation=90)\n",
        "    plt.ylabel(\"F1 score\")\n",
        "    plt.xlabel(\"Hyper-parameters\")\n",
        "    plt.legend()\n",
        "    plt.show()"
      ]
    },
    {
      "cell_type": "markdown",
      "metadata": {
        "id": "GJ06oCURy3Lo"
      },
      "source": [
        "<!-- BEGIN QUESTION -->\n",
        "\n",
        "**Question 6.1 (2 points):**  Train a Logistic Regression classifier using binary bag-of-words and perform hyper-parameter tuning on the maximum number of iterations as well as the regularization term (C). Plot your hyper-parameter tuning and report the training, validation, and test F1 scores with the best hyper-parameter configuration. Note: it is okay to get convergence warnings."
      ]
    },
    {
      "cell_type": "code",
      "execution_count": 23,
      "metadata": {
        "tags": [],
        "id": "eC0ev8E5y3Lo",
        "colab": {
          "base_uri": "https://localhost:8080/",
          "height": 1000
        },
        "outputId": "bec13a0d-df3b-4d50-eab5-73f9d371d98a"
      },
      "outputs": [
        {
          "output_type": "stream",
          "name": "stderr",
          "text": [
            "/usr/local/lib/python3.7/dist-packages/sklearn/linear_model/_logistic.py:818: ConvergenceWarning: lbfgs failed to converge (status=1):\n",
            "STOP: TOTAL NO. of ITERATIONS REACHED LIMIT.\n",
            "\n",
            "Increase the number of iterations (max_iter) or scale the data as shown in:\n",
            "    https://scikit-learn.org/stable/modules/preprocessing.html\n",
            "Please also refer to the documentation for alternative solver options:\n",
            "    https://scikit-learn.org/stable/modules/linear_model.html#logistic-regression\n",
            "  extra_warning_msg=_LOGISTIC_SOLVER_CONVERGENCE_MSG,\n",
            "/usr/local/lib/python3.7/dist-packages/sklearn/linear_model/_logistic.py:818: ConvergenceWarning: lbfgs failed to converge (status=1):\n",
            "STOP: TOTAL NO. of ITERATIONS REACHED LIMIT.\n",
            "\n",
            "Increase the number of iterations (max_iter) or scale the data as shown in:\n",
            "    https://scikit-learn.org/stable/modules/preprocessing.html\n",
            "Please also refer to the documentation for alternative solver options:\n",
            "    https://scikit-learn.org/stable/modules/linear_model.html#logistic-regression\n",
            "  extra_warning_msg=_LOGISTIC_SOLVER_CONVERGENCE_MSG,\n",
            "/usr/local/lib/python3.7/dist-packages/sklearn/linear_model/_logistic.py:818: ConvergenceWarning: lbfgs failed to converge (status=1):\n",
            "STOP: TOTAL NO. of ITERATIONS REACHED LIMIT.\n",
            "\n",
            "Increase the number of iterations (max_iter) or scale the data as shown in:\n",
            "    https://scikit-learn.org/stable/modules/preprocessing.html\n",
            "Please also refer to the documentation for alternative solver options:\n",
            "    https://scikit-learn.org/stable/modules/linear_model.html#logistic-regression\n",
            "  extra_warning_msg=_LOGISTIC_SOLVER_CONVERGENCE_MSG,\n",
            "/usr/local/lib/python3.7/dist-packages/sklearn/linear_model/_logistic.py:818: ConvergenceWarning: lbfgs failed to converge (status=1):\n",
            "STOP: TOTAL NO. of ITERATIONS REACHED LIMIT.\n",
            "\n",
            "Increase the number of iterations (max_iter) or scale the data as shown in:\n",
            "    https://scikit-learn.org/stable/modules/preprocessing.html\n",
            "Please also refer to the documentation for alternative solver options:\n",
            "    https://scikit-learn.org/stable/modules/linear_model.html#logistic-regression\n",
            "  extra_warning_msg=_LOGISTIC_SOLVER_CONVERGENCE_MSG,\n",
            "/usr/local/lib/python3.7/dist-packages/sklearn/linear_model/_logistic.py:818: ConvergenceWarning: lbfgs failed to converge (status=1):\n",
            "STOP: TOTAL NO. of ITERATIONS REACHED LIMIT.\n",
            "\n",
            "Increase the number of iterations (max_iter) or scale the data as shown in:\n",
            "    https://scikit-learn.org/stable/modules/preprocessing.html\n",
            "Please also refer to the documentation for alternative solver options:\n",
            "    https://scikit-learn.org/stable/modules/linear_model.html#logistic-regression\n",
            "  extra_warning_msg=_LOGISTIC_SOLVER_CONVERGENCE_MSG,\n",
            "/usr/local/lib/python3.7/dist-packages/sklearn/linear_model/_logistic.py:818: ConvergenceWarning: lbfgs failed to converge (status=1):\n",
            "STOP: TOTAL NO. of ITERATIONS REACHED LIMIT.\n",
            "\n",
            "Increase the number of iterations (max_iter) or scale the data as shown in:\n",
            "    https://scikit-learn.org/stable/modules/preprocessing.html\n",
            "Please also refer to the documentation for alternative solver options:\n",
            "    https://scikit-learn.org/stable/modules/linear_model.html#logistic-regression\n",
            "  extra_warning_msg=_LOGISTIC_SOLVER_CONVERGENCE_MSG,\n",
            "/usr/local/lib/python3.7/dist-packages/sklearn/linear_model/_logistic.py:818: ConvergenceWarning: lbfgs failed to converge (status=1):\n",
            "STOP: TOTAL NO. of ITERATIONS REACHED LIMIT.\n",
            "\n",
            "Increase the number of iterations (max_iter) or scale the data as shown in:\n",
            "    https://scikit-learn.org/stable/modules/preprocessing.html\n",
            "Please also refer to the documentation for alternative solver options:\n",
            "    https://scikit-learn.org/stable/modules/linear_model.html#logistic-regression\n",
            "  extra_warning_msg=_LOGISTIC_SOLVER_CONVERGENCE_MSG,\n",
            "/usr/local/lib/python3.7/dist-packages/sklearn/linear_model/_logistic.py:818: ConvergenceWarning: lbfgs failed to converge (status=1):\n",
            "STOP: TOTAL NO. of ITERATIONS REACHED LIMIT.\n",
            "\n",
            "Increase the number of iterations (max_iter) or scale the data as shown in:\n",
            "    https://scikit-learn.org/stable/modules/preprocessing.html\n",
            "Please also refer to the documentation for alternative solver options:\n",
            "    https://scikit-learn.org/stable/modules/linear_model.html#logistic-regression\n",
            "  extra_warning_msg=_LOGISTIC_SOLVER_CONVERGENCE_MSG,\n",
            "/usr/local/lib/python3.7/dist-packages/sklearn/linear_model/_logistic.py:818: ConvergenceWarning: lbfgs failed to converge (status=1):\n",
            "STOP: TOTAL NO. of ITERATIONS REACHED LIMIT.\n",
            "\n",
            "Increase the number of iterations (max_iter) or scale the data as shown in:\n",
            "    https://scikit-learn.org/stable/modules/preprocessing.html\n",
            "Please also refer to the documentation for alternative solver options:\n",
            "    https://scikit-learn.org/stable/modules/linear_model.html#logistic-regression\n",
            "  extra_warning_msg=_LOGISTIC_SOLVER_CONVERGENCE_MSG,\n",
            "/usr/local/lib/python3.7/dist-packages/sklearn/linear_model/_logistic.py:818: ConvergenceWarning: lbfgs failed to converge (status=1):\n",
            "STOP: TOTAL NO. of ITERATIONS REACHED LIMIT.\n",
            "\n",
            "Increase the number of iterations (max_iter) or scale the data as shown in:\n",
            "    https://scikit-learn.org/stable/modules/preprocessing.html\n",
            "Please also refer to the documentation for alternative solver options:\n",
            "    https://scikit-learn.org/stable/modules/linear_model.html#logistic-regression\n",
            "  extra_warning_msg=_LOGISTIC_SOLVER_CONVERGENCE_MSG,\n",
            "/usr/local/lib/python3.7/dist-packages/sklearn/linear_model/_logistic.py:818: ConvergenceWarning: lbfgs failed to converge (status=1):\n",
            "STOP: TOTAL NO. of ITERATIONS REACHED LIMIT.\n",
            "\n",
            "Increase the number of iterations (max_iter) or scale the data as shown in:\n",
            "    https://scikit-learn.org/stable/modules/preprocessing.html\n",
            "Please also refer to the documentation for alternative solver options:\n",
            "    https://scikit-learn.org/stable/modules/linear_model.html#logistic-regression\n",
            "  extra_warning_msg=_LOGISTIC_SOLVER_CONVERGENCE_MSG,\n",
            "/usr/local/lib/python3.7/dist-packages/sklearn/linear_model/_logistic.py:818: ConvergenceWarning: lbfgs failed to converge (status=1):\n",
            "STOP: TOTAL NO. of ITERATIONS REACHED LIMIT.\n",
            "\n",
            "Increase the number of iterations (max_iter) or scale the data as shown in:\n",
            "    https://scikit-learn.org/stable/modules/preprocessing.html\n",
            "Please also refer to the documentation for alternative solver options:\n",
            "    https://scikit-learn.org/stable/modules/linear_model.html#logistic-regression\n",
            "  extra_warning_msg=_LOGISTIC_SOLVER_CONVERGENCE_MSG,\n"
          ]
        },
        {
          "output_type": "stream",
          "name": "stdout",
          "text": [
            "The training, validation, and test F1 scores of the best logistic regression model (max_iter: 31, C: 0.015) using binary bag-of-words are 0.52172, 0.4802, 0.4578\n"
          ]
        },
        {
          "output_type": "display_data",
          "data": {
            "text/plain": [
              "<Figure size 432x288 with 1 Axes>"
            ],
            "image/png": "[encoded data removed]"
          },
          "metadata": {
            "needs_background": "light"
          }
        }
      ],
      "source": [
        "from sklearn.linear_model import LogisticRegression\n",
        "\n",
        "def logistic_regression(bow_train_data: numpy.ndarray, y_train: numpy.ndarray, bow_val_data: numpy.ndarray, y_val: numpy.ndarray, bow_test_data: numpy.ndarray, y_test: numpy.ndarray, C_values: list, max_iter_values: list):\n",
        "    \"\"\" Trains a logistic regression classifier.\n",
        "\n",
        "    Args:\n",
        "        bow_train_data (numpy.ndarray): the bag-of-words representations of the training data\n",
        "        y_train (numpy.ndarray): the labels of the training data\n",
        "        bow_val_data (numpy.ndarray): the bag-of-words representations of the validation data\n",
        "        y_val (numpy.ndarray): the labels of the validation data\n",
        "        bow_test_data (numpy.ndarray): the bag-of-words representations of the test data\n",
        "        y_test (numpy.ndarray): the labels of the test data\n",
        "        C_values (list): the C values to try\n",
        "        max_iter_values (list): the maximum iteration values to try\n",
        "\n",
        "    Returns:\n",
        "        train_f1_score (float): F1 score predicted on the training set\n",
        "        val_f1_score (float): F1 score predicted on the validation set\n",
        "        test_f1_score (float): F1 score predicted on the test set\n",
        "        f1_scores (list): F1 scores of the different maximum depth values\n",
        "        best_C (float): C value with the highest validation F1 score\n",
        "        best_max_iter (float): maximum iteration value with the highest validation F1 score\n",
        "    \"\"\"\n",
        "\n",
        "    f1_train_lr_best_config_bow = -1 #TODO\n",
        "    f1_val_lr_best_config_bow = -1 #TODO\n",
        "    f1_test_lr_best_config_bow = -1 #TODO\n",
        "\n",
        "    f1_scores = {} #TODO\n",
        "    best_C = -1 #TODO\n",
        "    best_max_iter = -1 #TODO\n",
        "    best_f1_score = 0\n",
        "    \n",
        "    for max_iter_value in max_iter_values:\n",
        "      for C_value in C_values:\n",
        "        f1_val_score = fit_and_predict(LogisticRegression(C=C_value, max_iter=max_iter_value), bow_train_data, y_train, bow_val_data, y_val)\n",
        "        f1_scores[f\"max_iter: {max_iter_value}, C: {C_value}\"] = f1_val_score\n",
        "        if f1_val_score > best_f1_score:\n",
        "          best_f1_score = f1_val_score\n",
        "          best_max_iter = max_iter_value\n",
        "          best_C = C_value\n",
        "    \n",
        "    f1_train_lr_best_config_bow = fit_and_predict(LogisticRegression(C=best_C, max_iter=best_max_iter), bow_train_data, y_train, bow_train_data, y_train)\n",
        "    f1_val_lr_best_config_bow = fit_and_predict(LogisticRegression(C=best_C, max_iter=best_max_iter), bow_train_data, y_train, bow_val_data, y_val)\n",
        "    f1_test_lr_best_config_bow = fit_and_predict(LogisticRegression(C=best_C, max_iter=best_max_iter), bow_train_data, y_train, bow_test_data, y_test)\n",
        "\n",
        "    return f1_train_lr_best_config_bow, f1_val_lr_best_config_bow, f1_test_lr_best_config_bow, f1_scores, best_C, best_max_iter\n",
        "\n",
        "C_values = [0.01475, 0.015, 0.01525]\n",
        "max_iter_values = [25, 28, 31]\n",
        "\n",
        "f1_train_lr_best_config_bow, f1_val_lr_best_config_bow, f1_test_lr_best_config_bow, f1_scores, best_C, best_max_iter = logistic_regression(binary_bow_train_data, y_train, binary_bow_val_data, y_val, binary_bow_test_data, y_test, C_values, max_iter_values)\n",
        "print(f\"The training, validation, and test F1 scores of the best logistic regression model (max_iter: {best_max_iter}, C: {best_C}) using binary bag-of-words are {f1_train_lr_best_config_bow}, {f1_val_lr_best_config_bow}, {f1_test_lr_best_config_bow}\")\n",
        "visualize_multi_hyperparameter_tuning(f1_scores, f\"max_iter: {best_max_iter}, C: {best_C}\")"
      ]
    },
    {
      "cell_type": "markdown",
      "metadata": {
        "id": "blhhDs4iy3Lp"
      },
      "source": [
        "<!-- END QUESTION -->\n",
        "\n",
        "<!-- BEGIN QUESTION -->\n",
        "\n",
        "**Question 6.2 (2 points):**  Repeat the previous experiment by performing hyper-parameter tuning using frequency bag-of-words. Note: it is okay to get convergence warnings."
      ]
    },
    {
      "cell_type": "code",
      "execution_count": 24,
      "metadata": {
        "tags": [],
        "id": "PUlpXALky3Lp",
        "colab": {
          "base_uri": "https://localhost:8080/",
          "height": 1000
        },
        "outputId": "3a8441b3-1d58-4bf4-cfdf-e6f272e7acee"
      },
      "outputs": [
        {
          "output_type": "stream",
          "name": "stderr",
          "text": [
            "/usr/local/lib/python3.7/dist-packages/sklearn/linear_model/_logistic.py:818: ConvergenceWarning: lbfgs failed to converge (status=1):\n",
            "STOP: TOTAL NO. of ITERATIONS REACHED LIMIT.\n",
            "\n",
            "Increase the number of iterations (max_iter) or scale the data as shown in:\n",
            "    https://scikit-learn.org/stable/modules/preprocessing.html\n",
            "Please also refer to the documentation for alternative solver options:\n",
            "    https://scikit-learn.org/stable/modules/linear_model.html#logistic-regression\n",
            "  extra_warning_msg=_LOGISTIC_SOLVER_CONVERGENCE_MSG,\n",
            "/usr/local/lib/python3.7/dist-packages/sklearn/linear_model/_logistic.py:818: ConvergenceWarning: lbfgs failed to converge (status=1):\n",
            "STOP: TOTAL NO. of ITERATIONS REACHED LIMIT.\n",
            "\n",
            "Increase the number of iterations (max_iter) or scale the data as shown in:\n",
            "    https://scikit-learn.org/stable/modules/preprocessing.html\n",
            "Please also refer to the documentation for alternative solver options:\n",
            "    https://scikit-learn.org/stable/modules/linear_model.html#logistic-regression\n",
            "  extra_warning_msg=_LOGISTIC_SOLVER_CONVERGENCE_MSG,\n",
            "/usr/local/lib/python3.7/dist-packages/sklearn/linear_model/_logistic.py:818: ConvergenceWarning: lbfgs failed to converge (status=1):\n",
            "STOP: TOTAL NO. of ITERATIONS REACHED LIMIT.\n",
            "\n",
            "Increase the number of iterations (max_iter) or scale the data as shown in:\n",
            "    https://scikit-learn.org/stable/modules/preprocessing.html\n",
            "Please also refer to the documentation for alternative solver options:\n",
            "    https://scikit-learn.org/stable/modules/linear_model.html#logistic-regression\n",
            "  extra_warning_msg=_LOGISTIC_SOLVER_CONVERGENCE_MSG,\n",
            "/usr/local/lib/python3.7/dist-packages/sklearn/linear_model/_logistic.py:818: ConvergenceWarning: lbfgs failed to converge (status=1):\n",
            "STOP: TOTAL NO. of ITERATIONS REACHED LIMIT.\n",
            "\n",
            "Increase the number of iterations (max_iter) or scale the data as shown in:\n",
            "    https://scikit-learn.org/stable/modules/preprocessing.html\n",
            "Please also refer to the documentation for alternative solver options:\n",
            "    https://scikit-learn.org/stable/modules/linear_model.html#logistic-regression\n",
            "  extra_warning_msg=_LOGISTIC_SOLVER_CONVERGENCE_MSG,\n",
            "/usr/local/lib/python3.7/dist-packages/sklearn/linear_model/_logistic.py:818: ConvergenceWarning: lbfgs failed to converge (status=1):\n",
            "STOP: TOTAL NO. of ITERATIONS REACHED LIMIT.\n",
            "\n",
            "Increase the number of iterations (max_iter) or scale the data as shown in:\n",
            "    https://scikit-learn.org/stable/modules/preprocessing.html\n",
            "Please also refer to the documentation for alternative solver options:\n",
            "    https://scikit-learn.org/stable/modules/linear_model.html#logistic-regression\n",
            "  extra_warning_msg=_LOGISTIC_SOLVER_CONVERGENCE_MSG,\n",
            "/usr/local/lib/python3.7/dist-packages/sklearn/linear_model/_logistic.py:818: ConvergenceWarning: lbfgs failed to converge (status=1):\n",
            "STOP: TOTAL NO. of ITERATIONS REACHED LIMIT.\n",
            "\n",
            "Increase the number of iterations (max_iter) or scale the data as shown in:\n",
            "    https://scikit-learn.org/stable/modules/preprocessing.html\n",
            "Please also refer to the documentation for alternative solver options:\n",
            "    https://scikit-learn.org/stable/modules/linear_model.html#logistic-regression\n",
            "  extra_warning_msg=_LOGISTIC_SOLVER_CONVERGENCE_MSG,\n",
            "/usr/local/lib/python3.7/dist-packages/sklearn/linear_model/_logistic.py:818: ConvergenceWarning: lbfgs failed to converge (status=1):\n",
            "STOP: TOTAL NO. of ITERATIONS REACHED LIMIT.\n",
            "\n",
            "Increase the number of iterations (max_iter) or scale the data as shown in:\n",
            "    https://scikit-learn.org/stable/modules/preprocessing.html\n",
            "Please also refer to the documentation for alternative solver options:\n",
            "    https://scikit-learn.org/stable/modules/linear_model.html#logistic-regression\n",
            "  extra_warning_msg=_LOGISTIC_SOLVER_CONVERGENCE_MSG,\n",
            "/usr/local/lib/python3.7/dist-packages/sklearn/linear_model/_logistic.py:818: ConvergenceWarning: lbfgs failed to converge (status=1):\n",
            "STOP: TOTAL NO. of ITERATIONS REACHED LIMIT.\n",
            "\n",
            "Increase the number of iterations (max_iter) or scale the data as shown in:\n",
            "    https://scikit-learn.org/stable/modules/preprocessing.html\n",
            "Please also refer to the documentation for alternative solver options:\n",
            "    https://scikit-learn.org/stable/modules/linear_model.html#logistic-regression\n",
            "  extra_warning_msg=_LOGISTIC_SOLVER_CONVERGENCE_MSG,\n",
            "/usr/local/lib/python3.7/dist-packages/sklearn/linear_model/_logistic.py:818: ConvergenceWarning: lbfgs failed to converge (status=1):\n",
            "STOP: TOTAL NO. of ITERATIONS REACHED LIMIT.\n",
            "\n",
            "Increase the number of iterations (max_iter) or scale the data as shown in:\n",
            "    https://scikit-learn.org/stable/modules/preprocessing.html\n",
            "Please also refer to the documentation for alternative solver options:\n",
            "    https://scikit-learn.org/stable/modules/linear_model.html#logistic-regression\n",
            "  extra_warning_msg=_LOGISTIC_SOLVER_CONVERGENCE_MSG,\n",
            "/usr/local/lib/python3.7/dist-packages/sklearn/linear_model/_logistic.py:818: ConvergenceWarning: lbfgs failed to converge (status=1):\n",
            "STOP: TOTAL NO. of ITERATIONS REACHED LIMIT.\n",
            "\n",
            "Increase the number of iterations (max_iter) or scale the data as shown in:\n",
            "    https://scikit-learn.org/stable/modules/preprocessing.html\n",
            "Please also refer to the documentation for alternative solver options:\n",
            "    https://scikit-learn.org/stable/modules/linear_model.html#logistic-regression\n",
            "  extra_warning_msg=_LOGISTIC_SOLVER_CONVERGENCE_MSG,\n",
            "/usr/local/lib/python3.7/dist-packages/sklearn/linear_model/_logistic.py:818: ConvergenceWarning: lbfgs failed to converge (status=1):\n",
            "STOP: TOTAL NO. of ITERATIONS REACHED LIMIT.\n",
            "\n",
            "Increase the number of iterations (max_iter) or scale the data as shown in:\n",
            "    https://scikit-learn.org/stable/modules/preprocessing.html\n",
            "Please also refer to the documentation for alternative solver options:\n",
            "    https://scikit-learn.org/stable/modules/linear_model.html#logistic-regression\n",
            "  extra_warning_msg=_LOGISTIC_SOLVER_CONVERGENCE_MSG,\n",
            "/usr/local/lib/python3.7/dist-packages/sklearn/linear_model/_logistic.py:818: ConvergenceWarning: lbfgs failed to converge (status=1):\n",
            "STOP: TOTAL NO. of ITERATIONS REACHED LIMIT.\n",
            "\n",
            "Increase the number of iterations (max_iter) or scale the data as shown in:\n",
            "    https://scikit-learn.org/stable/modules/preprocessing.html\n",
            "Please also refer to the documentation for alternative solver options:\n",
            "    https://scikit-learn.org/stable/modules/linear_model.html#logistic-regression\n",
            "  extra_warning_msg=_LOGISTIC_SOLVER_CONVERGENCE_MSG,\n",
            "/usr/local/lib/python3.7/dist-packages/sklearn/linear_model/_logistic.py:818: ConvergenceWarning: lbfgs failed to converge (status=1):\n",
            "STOP: TOTAL NO. of ITERATIONS REACHED LIMIT.\n",
            "\n",
            "Increase the number of iterations (max_iter) or scale the data as shown in:\n",
            "    https://scikit-learn.org/stable/modules/preprocessing.html\n",
            "Please also refer to the documentation for alternative solver options:\n",
            "    https://scikit-learn.org/stable/modules/linear_model.html#logistic-regression\n",
            "  extra_warning_msg=_LOGISTIC_SOLVER_CONVERGENCE_MSG,\n",
            "/usr/local/lib/python3.7/dist-packages/sklearn/linear_model/_logistic.py:818: ConvergenceWarning: lbfgs failed to converge (status=1):\n",
            "STOP: TOTAL NO. of ITERATIONS REACHED LIMIT.\n",
            "\n",
            "Increase the number of iterations (max_iter) or scale the data as shown in:\n",
            "    https://scikit-learn.org/stable/modules/preprocessing.html\n",
            "Please also refer to the documentation for alternative solver options:\n",
            "    https://scikit-learn.org/stable/modules/linear_model.html#logistic-regression\n",
            "  extra_warning_msg=_LOGISTIC_SOLVER_CONVERGENCE_MSG,\n",
            "/usr/local/lib/python3.7/dist-packages/sklearn/linear_model/_logistic.py:818: ConvergenceWarning: lbfgs failed to converge (status=1):\n",
            "STOP: TOTAL NO. of ITERATIONS REACHED LIMIT.\n",
            "\n",
            "Increase the number of iterations (max_iter) or scale the data as shown in:\n",
            "    https://scikit-learn.org/stable/modules/preprocessing.html\n",
            "Please also refer to the documentation for alternative solver options:\n",
            "    https://scikit-learn.org/stable/modules/linear_model.html#logistic-regression\n",
            "  extra_warning_msg=_LOGISTIC_SOLVER_CONVERGENCE_MSG,\n",
            "/usr/local/lib/python3.7/dist-packages/sklearn/linear_model/_logistic.py:818: ConvergenceWarning: lbfgs failed to converge (status=1):\n",
            "STOP: TOTAL NO. of ITERATIONS REACHED LIMIT.\n",
            "\n",
            "Increase the number of iterations (max_iter) or scale the data as shown in:\n",
            "    https://scikit-learn.org/stable/modules/preprocessing.html\n",
            "Please also refer to the documentation for alternative solver options:\n",
            "    https://scikit-learn.org/stable/modules/linear_model.html#logistic-regression\n",
            "  extra_warning_msg=_LOGISTIC_SOLVER_CONVERGENCE_MSG,\n",
            "/usr/local/lib/python3.7/dist-packages/sklearn/linear_model/_logistic.py:818: ConvergenceWarning: lbfgs failed to converge (status=1):\n",
            "STOP: TOTAL NO. of ITERATIONS REACHED LIMIT.\n",
            "\n",
            "Increase the number of iterations (max_iter) or scale the data as shown in:\n",
            "    https://scikit-learn.org/stable/modules/preprocessing.html\n",
            "Please also refer to the documentation for alternative solver options:\n",
            "    https://scikit-learn.org/stable/modules/linear_model.html#logistic-regression\n",
            "  extra_warning_msg=_LOGISTIC_SOLVER_CONVERGENCE_MSG,\n",
            "/usr/local/lib/python3.7/dist-packages/sklearn/linear_model/_logistic.py:818: ConvergenceWarning: lbfgs failed to converge (status=1):\n",
            "STOP: TOTAL NO. of ITERATIONS REACHED LIMIT.\n",
            "\n",
            "Increase the number of iterations (max_iter) or scale the data as shown in:\n",
            "    https://scikit-learn.org/stable/modules/preprocessing.html\n",
            "Please also refer to the documentation for alternative solver options:\n",
            "    https://scikit-learn.org/stable/modules/linear_model.html#logistic-regression\n",
            "  extra_warning_msg=_LOGISTIC_SOLVER_CONVERGENCE_MSG,\n"
          ]
        },
        {
          "output_type": "stream",
          "name": "stdout",
          "text": [
            "The training, validation, and test F1 scores of the best logistic regression model (max_iter: 3, C: 0.14) using frequency bag-of-words are 0.34112, 0.3434, 0.3332\n"
          ]
        },
        {
          "output_type": "display_data",
          "data": {
            "text/plain": [
              "<Figure size 432x288 with 1 Axes>"
            ],
            "image/png": "[encoded data removed]"
          },
          "metadata": {
            "needs_background": "light"
          }
        }
      ],
      "source": [
        "C_values = [0.0014, 0.014, 0.14, 1.4, 14]\n",
        "max_iter_values = [1, 2, 3]\n",
        "\n",
        "f1_train_lr_best_config_fbow, f1_val_lr_best_config_fbow, f1_test_lr_best_config_fbow, f1_scores, best_C, best_max_iter = logistic_regression(frequency_bow_train_data, y_train, frequency_bow_val_data, y_val, frequency_bow_test_data, y_test, C_values, max_iter_values)\n",
        "print(f\"The training, validation, and test F1 scores of the best logistic regression model (max_iter: {best_max_iter}, C: {best_C}) using frequency bag-of-words are {f1_train_lr_best_config_fbow}, {f1_val_lr_best_config_fbow}, {f1_test_lr_best_config_fbow}\")\n",
        "visualize_multi_hyperparameter_tuning(f1_scores, f\"max_iter: {best_max_iter}, C: {best_C}\")"
      ]
    },
    {
      "cell_type": "markdown",
      "metadata": {
        "id": "VJvBGnYAy3Lp"
      },
      "source": [
        "<!-- END QUESTION -->\n",
        "\n",
        "<!-- BEGIN QUESTION -->\n",
        "\n",
        "**Question 6.3 (2 points):**  Explain how you chose the hyperparameter range for each representation. (1-2 sentences)"
      ]
    },
    {
      "cell_type": "markdown",
      "metadata": {
        "id": "XqpMBTAgy3Lp"
      },
      "source": [
        "**Answer 6.3:** I started with a range for both hyperparameters according to the method explained in Answer 5.3. I fix one hyperparameter, try to optimize the other one, and switch when I have found a good value."
      ]
    },
    {
      "cell_type": "markdown",
      "metadata": {
        "id": "XUddWN_sy3Lp"
      },
      "source": [
        "<!-- END QUESTION -->\n",
        "\n",
        "### 7.  Linear SVM classifier (6 points)\n",
        "\n",
        "Lastly, let's try a linear SVM classifier."
      ]
    },
    {
      "cell_type": "markdown",
      "metadata": {
        "id": "H6pURkvZy3Lp"
      },
      "source": [
        "<!-- BEGIN QUESTION -->\n",
        "\n",
        "**Question 7.1 (2 points):**  Train a Linear SVM classifier using binary bag-of-words and perform hyper-parameter tuning on the maximum number of iterations as well as the regularization term (C). Plot your hyper-parameter tuning and report the training, validation, and test F1 scores with the best hyper-parameter configuration. Note: it is okay to get convergence warnings."
      ]
    },
    {
      "cell_type": "code",
      "execution_count": 25,
      "metadata": {
        "tags": [],
        "id": "w9PwNOjSy3Lp",
        "colab": {
          "base_uri": "https://localhost:8080/",
          "height": 1000
        },
        "outputId": "679d051e-3b8b-40f0-ee5e-b36eb51ae715"
      },
      "outputs": [
        {
          "output_type": "stream",
          "name": "stderr",
          "text": [
            "/usr/local/lib/python3.7/dist-packages/sklearn/svm/_base.py:1208: ConvergenceWarning: Liblinear failed to converge, increase the number of iterations.\n",
            "  ConvergenceWarning,\n",
            "/usr/local/lib/python3.7/dist-packages/sklearn/svm/_base.py:1208: ConvergenceWarning: Liblinear failed to converge, increase the number of iterations.\n",
            "  ConvergenceWarning,\n",
            "/usr/local/lib/python3.7/dist-packages/sklearn/svm/_base.py:1208: ConvergenceWarning: Liblinear failed to converge, increase the number of iterations.\n",
            "  ConvergenceWarning,\n",
            "/usr/local/lib/python3.7/dist-packages/sklearn/svm/_base.py:1208: ConvergenceWarning: Liblinear failed to converge, increase the number of iterations.\n",
            "  ConvergenceWarning,\n",
            "/usr/local/lib/python3.7/dist-packages/sklearn/svm/_base.py:1208: ConvergenceWarning: Liblinear failed to converge, increase the number of iterations.\n",
            "  ConvergenceWarning,\n",
            "/usr/local/lib/python3.7/dist-packages/sklearn/svm/_base.py:1208: ConvergenceWarning: Liblinear failed to converge, increase the number of iterations.\n",
            "  ConvergenceWarning,\n",
            "/usr/local/lib/python3.7/dist-packages/sklearn/svm/_base.py:1208: ConvergenceWarning: Liblinear failed to converge, increase the number of iterations.\n",
            "  ConvergenceWarning,\n",
            "/usr/local/lib/python3.7/dist-packages/sklearn/svm/_base.py:1208: ConvergenceWarning: Liblinear failed to converge, increase the number of iterations.\n",
            "  ConvergenceWarning,\n",
            "/usr/local/lib/python3.7/dist-packages/sklearn/svm/_base.py:1208: ConvergenceWarning: Liblinear failed to converge, increase the number of iterations.\n",
            "  ConvergenceWarning,\n",
            "/usr/local/lib/python3.7/dist-packages/sklearn/svm/_base.py:1208: ConvergenceWarning: Liblinear failed to converge, increase the number of iterations.\n",
            "  ConvergenceWarning,\n",
            "/usr/local/lib/python3.7/dist-packages/sklearn/svm/_base.py:1208: ConvergenceWarning: Liblinear failed to converge, increase the number of iterations.\n",
            "  ConvergenceWarning,\n",
            "/usr/local/lib/python3.7/dist-packages/sklearn/svm/_base.py:1208: ConvergenceWarning: Liblinear failed to converge, increase the number of iterations.\n",
            "  ConvergenceWarning,\n",
            "/usr/local/lib/python3.7/dist-packages/sklearn/svm/_base.py:1208: ConvergenceWarning: Liblinear failed to converge, increase the number of iterations.\n",
            "  ConvergenceWarning,\n",
            "/usr/local/lib/python3.7/dist-packages/sklearn/svm/_base.py:1208: ConvergenceWarning: Liblinear failed to converge, increase the number of iterations.\n",
            "  ConvergenceWarning,\n",
            "/usr/local/lib/python3.7/dist-packages/sklearn/svm/_base.py:1208: ConvergenceWarning: Liblinear failed to converge, increase the number of iterations.\n",
            "  ConvergenceWarning,\n",
            "/usr/local/lib/python3.7/dist-packages/sklearn/svm/_base.py:1208: ConvergenceWarning: Liblinear failed to converge, increase the number of iterations.\n",
            "  ConvergenceWarning,\n",
            "/usr/local/lib/python3.7/dist-packages/sklearn/svm/_base.py:1208: ConvergenceWarning: Liblinear failed to converge, increase the number of iterations.\n",
            "  ConvergenceWarning,\n",
            "/usr/local/lib/python3.7/dist-packages/sklearn/svm/_base.py:1208: ConvergenceWarning: Liblinear failed to converge, increase the number of iterations.\n",
            "  ConvergenceWarning,\n",
            "/usr/local/lib/python3.7/dist-packages/sklearn/svm/_base.py:1208: ConvergenceWarning: Liblinear failed to converge, increase the number of iterations.\n",
            "  ConvergenceWarning,\n"
          ]
        },
        {
          "output_type": "stream",
          "name": "stdout",
          "text": [
            "The training, validation, and test F1 scores of the best linear SVM model (max_iter: 4, C: 0.001125) using binary bag-of-words are 0.52072, 0.4724, 0.4524\n"
          ]
        },
        {
          "output_type": "display_data",
          "data": {
            "text/plain": [
              "<Figure size 432x288 with 1 Axes>"
            ],
            "image/png": "[encoded data removed]"
          },
          "metadata": {
            "needs_background": "light"
          }
        }
      ],
      "source": [
        "from sklearn.svm import LinearSVC\n",
        "def linear_svm(bow_train_data: numpy.ndarray, y_train: numpy.ndarray, bow_val_data: numpy.ndarray, y_val: numpy.ndarray, bow_test_data: numpy.ndarray, y_test: numpy.ndarray, C_values: list, max_iter_values: list):\n",
        "    \"\"\" Trains a linear SVM classifier.\n",
        "\n",
        "    Args:\n",
        "        bow_train_data (numpy.ndarray): the bag-of-words representations of the training data\n",
        "        y_train (numpy.ndarray): the labels of the training data\n",
        "        bow_val_data (numpy.ndarray): the bag-of-words representations of the validation data\n",
        "        y_val (numpy.ndarray): the labels of the validation data\n",
        "        bow_test_data (numpy.ndarray): the bag-of-words representations of the test data\n",
        "        y_test (numpy.ndarray): the labels of the test data\n",
        "        C_values (list): the C values to try\n",
        "        max_iter_values (list): the maximum iteration values to try\n",
        "\n",
        "    Returns:\n",
        "        train_f1_score (float): F1 score predicted on the training set\n",
        "        val_f1_score (float): F1 score predicted on the validation set\n",
        "        test_f1_score (float): F1 score predicted on the test set\n",
        "        f1_scores (list): F1 scores of the different maximum depth values\n",
        "        best_C (float): C value with the highest validation F1 score\n",
        "        best_max_iter (float): maximum iteration value with the highest validation F1 score\n",
        "    \"\"\"\n",
        "\n",
        "    f1_train_svm_best_config_bow = -1 #TODO\n",
        "    f1_val_svm_best_config_bow = -1 #TODO\n",
        "    f1_test_svm_best_config_bow = -1 #TODO\n",
        "\n",
        "    f1_scores = {} #TODO\n",
        "    best_C = -1 #TODO\n",
        "    best_max_iter = -1 #TODO\n",
        "    best_f1_score = 0\n",
        "\n",
        "    for max_iter_value in max_iter_values:\n",
        "      for C_value in C_values:\n",
        "        f1_val_score = fit_and_predict(LinearSVC(C=C_value, max_iter=max_iter_value), bow_train_data, y_train, bow_val_data, y_val)\n",
        "        f1_scores[f\"max_iter: {max_iter_value}, C: {C_value}\"] = f1_val_score\n",
        "        if f1_val_score > best_f1_score:\n",
        "          best_f1_score = f1_val_score\n",
        "          best_max_iter = max_iter_value\n",
        "          best_C = C_value\n",
        "              \n",
        "    f1_train_svm_best_config_bow = fit_and_predict(LinearSVC(C=best_C, max_iter=best_max_iter), bow_train_data, y_train, bow_train_data, y_train)\n",
        "    f1_val_svm_best_config_bow = fit_and_predict(LinearSVC(C=best_C, max_iter=best_max_iter), bow_train_data, y_train, bow_val_data, y_val)\n",
        "    f1_test_svm_best_config_bow = fit_and_predict(LinearSVC(C=best_C, max_iter=best_max_iter), bow_train_data, y_train, bow_test_data, y_test)\n",
        "\n",
        "    return f1_train_svm_best_config_bow, f1_val_svm_best_config_bow, f1_test_svm_best_config_bow, f1_scores, best_C, best_max_iter\n",
        "\n",
        "C_values = [0.000875, 0.001, 0.001125, 0.00125]\n",
        "max_iter_values = [4, 5, 6, 7]\n",
        "\n",
        "f1_train_svm_best_config_bow, f1_val_svm_best_config_bow, f1_test_svm_best_config_bow, f1_scores, best_C, best_max_iter = linear_svm(binary_bow_train_data, y_train, binary_bow_val_data, y_val, binary_bow_test_data, y_test, C_values, max_iter_values)\n",
        "\n",
        "print(f\"The training, validation, and test F1 scores of the best linear SVM model (max_iter: {best_max_iter}, C: {best_C}) using binary bag-of-words are {f1_train_svm_best_config_bow}, {f1_val_svm_best_config_bow}, {f1_test_svm_best_config_bow}\")\n",
        "visualize_multi_hyperparameter_tuning(f1_scores, f\"max_iter: {best_max_iter}, C: {best_C}\")"
      ]
    },
    {
      "cell_type": "markdown",
      "metadata": {
        "id": "IeCND6lLy3Lq"
      },
      "source": [
        "<!-- END QUESTION -->\n",
        "\n",
        "<!-- BEGIN QUESTION -->\n",
        "\n",
        "**Question 7.2 (2 points):**  Repeat the previous experiment by performing hyper-parameter tuning using frequency bag-of-words. Note: it is okay to get convergence warnings."
      ]
    },
    {
      "cell_type": "code",
      "execution_count": 26,
      "metadata": {
        "tags": [],
        "id": "to9nyzXoy3Lq",
        "colab": {
          "base_uri": "https://localhost:8080/",
          "height": 1000
        },
        "outputId": "4f6812eb-67c1-4fd9-c434-61521f3365ce"
      },
      "outputs": [
        {
          "output_type": "stream",
          "name": "stderr",
          "text": [
            "/usr/local/lib/python3.7/dist-packages/sklearn/svm/_base.py:1208: ConvergenceWarning: Liblinear failed to converge, increase the number of iterations.\n",
            "  ConvergenceWarning,\n",
            "/usr/local/lib/python3.7/dist-packages/sklearn/svm/_base.py:1208: ConvergenceWarning: Liblinear failed to converge, increase the number of iterations.\n",
            "  ConvergenceWarning,\n",
            "/usr/local/lib/python3.7/dist-packages/sklearn/svm/_base.py:1208: ConvergenceWarning: Liblinear failed to converge, increase the number of iterations.\n",
            "  ConvergenceWarning,\n",
            "/usr/local/lib/python3.7/dist-packages/sklearn/svm/_base.py:1208: ConvergenceWarning: Liblinear failed to converge, increase the number of iterations.\n",
            "  ConvergenceWarning,\n",
            "/usr/local/lib/python3.7/dist-packages/sklearn/svm/_base.py:1208: ConvergenceWarning: Liblinear failed to converge, increase the number of iterations.\n",
            "  ConvergenceWarning,\n",
            "/usr/local/lib/python3.7/dist-packages/sklearn/svm/_base.py:1208: ConvergenceWarning: Liblinear failed to converge, increase the number of iterations.\n",
            "  ConvergenceWarning,\n",
            "/usr/local/lib/python3.7/dist-packages/sklearn/svm/_base.py:1208: ConvergenceWarning: Liblinear failed to converge, increase the number of iterations.\n",
            "  ConvergenceWarning,\n",
            "/usr/local/lib/python3.7/dist-packages/sklearn/svm/_base.py:1208: ConvergenceWarning: Liblinear failed to converge, increase the number of iterations.\n",
            "  ConvergenceWarning,\n",
            "/usr/local/lib/python3.7/dist-packages/sklearn/svm/_base.py:1208: ConvergenceWarning: Liblinear failed to converge, increase the number of iterations.\n",
            "  ConvergenceWarning,\n",
            "/usr/local/lib/python3.7/dist-packages/sklearn/svm/_base.py:1208: ConvergenceWarning: Liblinear failed to converge, increase the number of iterations.\n",
            "  ConvergenceWarning,\n",
            "/usr/local/lib/python3.7/dist-packages/sklearn/svm/_base.py:1208: ConvergenceWarning: Liblinear failed to converge, increase the number of iterations.\n",
            "  ConvergenceWarning,\n",
            "/usr/local/lib/python3.7/dist-packages/sklearn/svm/_base.py:1208: ConvergenceWarning: Liblinear failed to converge, increase the number of iterations.\n",
            "  ConvergenceWarning,\n",
            "/usr/local/lib/python3.7/dist-packages/sklearn/svm/_base.py:1208: ConvergenceWarning: Liblinear failed to converge, increase the number of iterations.\n",
            "  ConvergenceWarning,\n",
            "/usr/local/lib/python3.7/dist-packages/sklearn/svm/_base.py:1208: ConvergenceWarning: Liblinear failed to converge, increase the number of iterations.\n",
            "  ConvergenceWarning,\n",
            "/usr/local/lib/python3.7/dist-packages/sklearn/svm/_base.py:1208: ConvergenceWarning: Liblinear failed to converge, increase the number of iterations.\n",
            "  ConvergenceWarning,\n",
            "/usr/local/lib/python3.7/dist-packages/sklearn/svm/_base.py:1208: ConvergenceWarning: Liblinear failed to converge, increase the number of iterations.\n",
            "  ConvergenceWarning,\n",
            "/usr/local/lib/python3.7/dist-packages/sklearn/svm/_base.py:1208: ConvergenceWarning: Liblinear failed to converge, increase the number of iterations.\n",
            "  ConvergenceWarning,\n",
            "/usr/local/lib/python3.7/dist-packages/sklearn/svm/_base.py:1208: ConvergenceWarning: Liblinear failed to converge, increase the number of iterations.\n",
            "  ConvergenceWarning,\n"
          ]
        },
        {
          "output_type": "stream",
          "name": "stdout",
          "text": [
            "The training, validation, and test F1 scores of the best linear SVM model (max_iter: 1, C: 1e-06) using frequency bag-of-words are 0.29248, 0.3154, 0.2634\n"
          ]
        },
        {
          "output_type": "display_data",
          "data": {
            "text/plain": [
              "<Figure size 432x288 with 1 Axes>"
            ],
            "image/png": "[encoded data removed]"
          },
          "metadata": {
            "needs_background": "light"
          }
        }
      ],
      "source": [
        "C_values = [0.0000001, 0.0000005, 0.000001, 0.000005, 0.00001]\n",
        "max_iter_values = [1, 2, 3]\n",
        "\n",
        "f1_train_svm_best_config_fbow, f1_val_svm_best_config_fbow, f1_test_svm_best_config_fbow, f1_scores, best_C, best_max_iter = linear_svm(frequency_bow_train_data, y_train, frequency_bow_val_data, y_val, frequency_bow_test_data, y_test, C_values, max_iter_values)\n",
        "print(f\"The training, validation, and test F1 scores of the best linear SVM model (max_iter: {best_max_iter}, C: {best_C}) using frequency bag-of-words are {f1_train_svm_best_config_fbow}, {f1_val_svm_best_config_fbow}, {f1_test_svm_best_config_fbow}\")\n",
        "visualize_multi_hyperparameter_tuning(f1_scores, f\"max_iter: {best_max_iter}, C: {best_C}\")"
      ]
    },
    {
      "cell_type": "markdown",
      "metadata": {
        "id": "it7TmCwry3Lq"
      },
      "source": [
        "<!-- END QUESTION -->\n",
        "\n",
        "<!-- BEGIN QUESTION -->\n",
        "\n",
        "**Question 7.3 (2 points):**  Explain how you chose the hyperparameter range for each representation. (1-2 sentences)"
      ]
    },
    {
      "cell_type": "markdown",
      "metadata": {
        "id": "2twUhXjEy3Lq"
      },
      "source": [
        "**Answer 7.3:** I started with C-values ranging from much smaller than 1 to 1 and max-iterations between 1 and 21. I kept one range fixed while I narrowed down the range of the other hyperparameter towards what seemed to be the best value."
      ]
    },
    {
      "cell_type": "markdown",
      "metadata": {
        "id": "i6-zn7WPy3Lq"
      },
      "source": [
        "<!-- END QUESTION -->\n",
        "\n",
        "### 8.  Analysis and discussion (16 points)\n",
        "\n",
        "It is time to analyze and discuss your results."
      ]
    },
    {
      "cell_type": "markdown",
      "metadata": {
        "id": "PjO8pqfOy3Lq"
      },
      "source": [
        "<!-- BEGIN QUESTION -->\n",
        "\n",
        "**Question 8.1 (1 point):**  Report the performance of the different classifiers when using binary bag-of-words."
      ]
    },
    {
      "cell_type": "markdown",
      "metadata": {
        "id": "gQl6IXBEy3Lq"
      },
      "source": [
        "**Answer 8.1:** \n",
        "\n",
        "|        Classifier      | F1 score (train) | F1 score (val) | F1 score (test) |\n",
        "|------------------------|:----------------:|:--------------:|:---------------:|\n",
        "|  Bernoulli Naive Bayes |       0.39016        |      0.3706       |       0.364       |\n",
        "|     Decision trees     |       0.44572        |      0.332       |       0.3198       |\n",
        "|   Logistic regression  |       0.52172        |      0.4802       |       0.4578       |\n",
        "|        Linear SVM      |       0.52216        |      0.473       |       0.4514       |"
      ]
    },
    {
      "cell_type": "markdown",
      "metadata": {
        "id": "YAR3lJ_Cy3Lr"
      },
      "source": [
        "<!-- END QUESTION -->\n",
        "\n",
        "<!-- BEGIN QUESTION -->\n",
        "\n",
        "**Question 8.2 (1 point):**  Report the performance of the different classifiers when using frequency bag-of-words."
      ]
    },
    {
      "cell_type": "markdown",
      "metadata": {
        "id": "IDCOLfmWy3Lr"
      },
      "source": [
        "**Answer 8.2:** \n",
        "\n",
        "|        Classifier      | F1 score (train) | F1 score (val) | F1 score (test) |\n",
        "|------------------------|:----------------:|:--------------:|:---------------:|\n",
        "|  Gaussian Naive Bayes  |       0.40212        |      0.37899999999999995       |       0.3472       |\n",
        "|     Decision trees     |       0.3588        |      0.3222       |       0.313       |\n",
        "|   Logistic regression  |       0.34112        |      0.3434       |       0.3332       |\n",
        "|        Linear SVM      |       0.29248        |      0.3154       |       0.2634       |"
      ]
    },
    {
      "cell_type": "markdown",
      "metadata": {
        "id": "skEeEXAAy3Lr"
      },
      "source": [
        "<!-- END QUESTION -->\n",
        "\n",
        "<!-- BEGIN QUESTION -->\n",
        "\n",
        "**Question 8.3 (7 points):**  Analyze the performance of the different classifiers. Is there a particular classifier or subset of classifiers that perform better than the rest? Discuss the impact of the hyper-parameter range that you considered for each classifier.  (3-5 sentences)"
      ]
    },
    {
      "cell_type": "markdown",
      "metadata": {
        "id": "ZrD2PvnJy3Lr"
      },
      "source": [
        "**Answer 8.3:** Based on the test F1 score, Logistic Regression performs best on the binary bag-of-words and Gaussian Naive Bayes performs best on the frequency bag-of-words, and overall the Logistic Regression on binary bag-of-words has the best F1 score. However we **cannot** really point out one model that always performs better than all others.\n",
        "The hyperparameters difficult to tune, and especially for the models where we used two hyperparameters (LR and SVM) as opposed to just one. This because, we need to search in two dimensions at once for the maximum validation F1-score. It is possible that performance could be improved for these two models by finding the right range for the hyperparameters."
      ]
    },
    {
      "cell_type": "markdown",
      "metadata": {
        "id": "OfxKEl6py3Lr"
      },
      "source": [
        "<!-- END QUESTION -->\n",
        "\n",
        "<!-- BEGIN QUESTION -->\n",
        "\n",
        "**Question 8.4 (7 points):**  Analyze the performance of the different representations and discuss their limitations. Can you think of ways of improving the frequency bag-of-words representation? (3-5 sentences)"
      ]
    },
    {
      "cell_type": "markdown",
      "metadata": {
        "id": "9KePdhz-y3Lr"
      },
      "source": [
        "**Answer 8.4:** One limitation of using binary bag-of-words is that we cannot pickup on any correlation between the frequency of a key word and a certain class in the samples. One limitation of using frequency bag-of-words is that the most frequent words are not specific to the domain/the subject that the samples are talking about. The first 10 words in vocabulary of this assignment are the following; \n",
        "\n",
        "*the, to, and, a, of, i, is, you, game, it* \n",
        "\n",
        "which, expect for *game*, are all words that are frequent in the English language in general and their frequencies might not significantly increase performance. Term Frequency - Inverse Document Frequency is a method that could improve the representation of the frequency bag-of-words, since it reduces the importance of words that are very common in all samples."
      ]
    }
  ],
  "metadata": {
    "kernelspec": {
      "display_name": "Python 3.8.9 64-bit",
      "language": "python",
      "name": "python3"
    },
    "language_info": {
      "codemirror_mode": {
        "name": "ipython",
        "version": 3
      },
      "file_extension": ".py",
      "mimetype": "text/x-python",
      "name": "python",
      "nbconvert_exporter": "python",
      "pygments_lexer": "ipython3",
      "version": "3.8.9"
    },
    "vscode": {
      "interpreter": {
        "hash": "31f2aee4e71d21fbe5cf8b01ff0e069b9275f58929596ceb00d14d90e3e16cd6"
      }
    },
    "colab": {
      "provenance": [],
      "collapsed_sections": [
        "eRpOTuQ0y3Lh",
        "JTEMEUahy3Lj",
        "WoVEyUcqy3Lk",
        "7N9kwqhyy3Lm",
        "6gQdvkgFy3Lo",
        "XUddWN_sy3Lp",
        "i6-zn7WPy3Lq"
      ]
    }
  },
  "nbformat": 4,
  "nbformat_minor": 0
}